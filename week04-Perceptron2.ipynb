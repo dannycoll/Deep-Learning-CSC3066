{
 "cells": [
  {
   "cell_type": "markdown",
   "metadata": {},
   "source": [
    "# Week 4"
   ]
  },
  {
   "cell_type": "markdown",
   "metadata": {},
   "source": [
    "## Task 1: Training perceptron with back propagation\n",
    "\n"
   ]
  },
  {
   "cell_type": "markdown",
   "metadata": {},
   "source": [
    "The Simple Update Rule works well for simple perceptrons with binary step activation function. However, for more complex Neural Networks it is insufficient. In this task you will use perceptron with sigmoid activation function. From the lecture we know that for an instance $x=<x_1,\\dots,x_k>$ the input of a perceptron is calculated as $in=x_1w_1 +\\dots +x_kw_k +b$ where weights $w=\\left( \\begin{array}{c} w_1 \\\\ w_2 \\\\ \\dots \\\\ w_k \\end{array} \\right)$ and bias $b$ are the parameters of the perceptron. Following this, the output of the perceptron is calculated as: $out=\\frac{1}{1+e^{-in}}$.\n",
    "\n",
    "In this task we will train the perceptron using the backpropagation and gradient descent algorithms. The pseudo code of the gradient descent algorithm is presented below:\n",
    "\n",
    "Set weights $w$ and bias $b$ to random values.\n",
    "\n",
    "For each $(x,y)$ in training set:\n",
    "1. Pass $x$ through perceptron and calulate the outpu $out$\n",
    "2. Calculate derivative of the error function $E$ with respect to each parameter\n",
    "3. Update each weight according to the formula: $w_i = w_i - \\alpha\\frac{\\sigma E}{\\sigma w_i}$\n",
    "4. Update the bias according to the formula: $b = b - \\alpha\\frac{\\sigma E}{\\sigma b}$"
   ]
  },
  {
   "cell_type": "markdown",
   "metadata": {},
   "source": [
    "***\n",
    "**T1.1 Loading dataset**\n",
    "\n",
    "In this task we solve a simple regression problem using perceptron. The dataset `simpleregression` contains 2D data points, each assigned with an output value between 0 and 1. Familiarize yourself with the dataset.\n",
    "\n",
    "The two first features are the input variables and the last feature is the target output."
   ]
  },
  {
   "cell_type": "code",
   "execution_count": 49,
   "metadata": {},
   "outputs": [
    {
     "name": "stdout",
     "output_type": "stream",
     "text": [
      "(100, 2)\n"
     ]
    }
   ],
   "source": [
    "import numpy as np\n",
    "from sklearn.model_selection import train_test_split\n",
    "data = np.loadtxt(\"simpleregression.txt\")\n",
    "\n",
    "#extract input and output values\n",
    "x = data[:,:2]\n",
    "y = data[:,2]\n",
    "print(x.shape)"
   ]
  },
  {
   "cell_type": "markdown",
   "metadata": {},
   "source": [
    "We will split the data into training and testing sets."
   ]
  },
  {
   "cell_type": "code",
   "execution_count": 50,
   "metadata": {},
   "outputs": [],
   "source": [
    "#spliting data into train/test sets\n",
    "x_train, x_test, y_train, y_test = train_test_split(x, y,test_size=0.2, random_state=0)"
   ]
  },
  {
   "cell_type": "markdown",
   "metadata": {},
   "source": [
    "***\n",
    "**T1.2 Implementing sigmoid activation function and derivative of the sigmoid function**\n",
    "\n",
    "Given that the target values (values that we will be trying to predict) are between 0 and 1, we can use sigmoid activation function. In this task we implement two methods, which for a given input $v$ return the value of the sigmoid function and its derivative, respectively. From the lecture we know that the sigmoid function is define by the formula: $f(x)=\\frac{1}{1+e^{-x}}$ and its derivative can be calculated as: $f'(x) = \\frac{1}{1+e^{-x}}\\times(1-\\frac{1}{1+e^{-x}})$"
   ]
  },
  {
   "cell_type": "code",
   "execution_count": 51,
   "metadata": {},
   "outputs": [],
   "source": [
    "def sigmoid(v):\n",
    "    return 1/(1+np.exp(-v))"
   ]
  },
  {
   "cell_type": "code",
   "execution_count": 52,
   "metadata": {},
   "outputs": [],
   "source": [
    "def sigmoid_derivative(v):\n",
    "    return sigmoid(v)*(1-sigmoid(v))"
   ]
  },
  {
   "cell_type": "markdown",
   "metadata": {},
   "source": [
    "***\n",
    "**T1.3 Implementing the forward pass**\n",
    "\n",
    "We will start with implementing the forward pass (feedforward) of the perceptron. The matrix notation of the forward pass of an input $x=(x_1 \\dots x_k)$ through the perceptron is formulated as follows:\n",
    "\n",
    "$$ in = \\left( \\begin{array}{cc} x_1 & x_2 & \\dots x_k \\end{array}\\right) \\times\n",
    "\\left( \\begin{array}{c} w_1 \\\\ w_2 \\\\ \\dots \\\\ w_k \\end{array} \\right) + b$$\n",
    "$$ out=\\frac{1}{1+e^{-in}}$$\n",
    "\n",
    "Where $w$ and $b$ are the weights (column vector of dimension $k$) and the bias (scalar), respectively and $out$ stands for the output of the perceptron.\n",
    "\n",
    "We will start with initialising the weights and the bias with random values. Then we will implement the forward pass of the perceptron as $ out=\\frac{1}{1+e^{-(xw+b)}}$."
   ]
  },
  {
   "cell_type": "code",
   "execution_count": 53,
   "metadata": {},
   "outputs": [],
   "source": [
    "#fixing seed of the random number generator, this will ensure that we always get the same result\n",
    "np.random.seed(0) \n",
    "\n",
    "#initialising parameters\n",
    "w = np.random.uniform(-1,1,[x_train.shape[1],1])\n",
    "b = np.random.uniform(-1,1,1)\n",
    "l = 0.05\n",
    "\n",
    "#forward pass\n",
    "for i in range(len(x_train)):\n",
    "    #forward pass\n",
    "    in_ = x_train[i]@w+b\n",
    "    out = sigmoid(in_)"
   ]
  },
  {
   "cell_type": "markdown",
   "metadata": {},
   "source": [
    "***\n",
    "**T1.4 Error calculation**\n",
    "\n",
    "No we can calculate the error using the output $O$ and the target value $y$. We will use the squared error formula introduce during lectures:\n",
    "$$E=\\frac{1}{2}(y-out)^2$$\n",
    "\n",
    "\n",
    "Note that since we are passing a single instance as input to the perceptron, both $out$ and $y$ are scalars."
   ]
  },
  {
   "cell_type": "code",
   "execution_count": 54,
   "metadata": {},
   "outputs": [],
   "source": [
    "np.random.seed(0)\n",
    "#initialising parameters\n",
    "w = np.random.uniform(-1,1,[x_train.shape[1],1])\n",
    "b = np.random.uniform(-1,1,1)\n",
    "l = 0.05\n",
    "\n",
    "for i in range(len(x_train)):\n",
    "    #forward pass\n",
    "    in_ = x_train[i]@w+b\n",
    "    out = sigmoid(in_)\n",
    "    \n",
    "    #error calculation\n",
    "    error = (1/2)*(np.power((y_train[i]-out),2))"
   ]
  },
  {
   "cell_type": "markdown",
   "metadata": {},
   "source": [
    "***\n",
    "**T1.5 Implementing backpropagation**\n",
    "\n",
    "The goal of backpropagation is to compute the following partial derivatives: $\\frac{\\sigma E}{\\sigma w}$ and $\\frac{\\sigma E}{\\sigma b}$.\n",
    "\n",
    "Following the chain rule we know that:\n",
    "\\begin{equation*}\n",
    "\\frac{\\sigma E}{\\sigma w_i} = \\frac{\\sigma E}{\\sigma out} \\times \\frac{\\sigma out}{\\sigma in} \\times \\frac{\\sigma in}{\\sigma w_i}\n",
    "\\end{equation*}\n",
    "\n",
    "\\begin{equation*}\n",
    "\\frac{\\sigma E}{\\sigma b} = \\frac{\\sigma E}{\\sigma out} \\times \\frac{\\sigma out}{\\sigma in} \\times \\frac{\\sigma in}{\\sigma b}\n",
    "\\end{equation*}\n",
    "\n",
    "The partial derivatives can then be calculated as:\n",
    "\n",
    "$\\frac{\\sigma E}{\\sigma out} = out-y$ - this is derivative of the squared error function and it is a scalar\n",
    "\n",
    "$\\frac{\\sigma out}{\\sigma in} = \\underbrace{\\frac{1}{1+e^{-in}}\\times(1-\\frac{1}{1+e^{-in}})}_{\\text{this is derivative of the sigmoid function and it is a scalar}}$\n",
    "\n",
    "$\\frac{\\sigma in}{\\sigma w_i}= \\underbrace{x_i}_{\\text{ith input variable}}$\n",
    "\n",
    "$\\frac{\\sigma E}{\\sigma w_i} = \\frac{\\sigma E}{\\sigma out}\\times \\frac{\\sigma out}{\\sigma in}\\times \\frac{\\sigma in}{\\sigma w_i}= (out-y)\\times\\frac{1}{1+e^{-in}}\\times(1-\\frac{1}{1+e^{-in}})\\times x_i$\n",
    "\n",
    "$\\frac{\\sigma E}{\\sigma b}=\\frac{\\sigma E}{\\sigma out}\\times \\frac{\\sigma out}{\\sigma in}\\times \\frac{\\sigma in}{\\sigma b} = (out-y)\\times\\frac{1}{1+e^{-in}}\\times(1-\\frac{1}{1+e^{-in}})\\times\\underbrace{1}_{\\frac{\\sigma in}{\\sigma b}}$\n",
    "\n",
    "Using matrix notation, we can calculate the derivatives of the error as:\n",
    "\n",
    "$$\\frac{\\sigma E}{\\sigma w} = x.T\\times\\frac{1}{1+e^{-in}}\\times(1-\\frac{1}{1+e^{-in}})\\times(out-y)$$\n",
    "\n",
    "$$\\frac{\\sigma E}{\\sigma b} = \\frac{1}{1+e^{-in}}\\times(1-\\frac{1}{1+e^{-in}})\\times (out-y)$$\n",
    "\n",
    "We transpose $x$ so that the derivative is in the same format as $w$. This makes the update step easier. Please go back to the lecture slides if you need more explanation.\n",
    "\n",
    "Fill in the gaps for calculating the partial derivatives in the code below."
   ]
  },
  {
   "cell_type": "code",
   "execution_count": 55,
   "metadata": {},
   "outputs": [],
   "source": [
    "np.random.seed(0)\n",
    "\n",
    "#initialising parameters\n",
    "w = np.random.uniform(-1,1,[x_train.shape[1],1])\n",
    "b = np.random.uniform(1)\n",
    "l = 0.05\n",
    "\n",
    "for i in range(len(x_train)):\n",
    "    #forward pass\n",
    "    in_ = x_train[i]@w+b\n",
    "    out = sigmoid(in_)\n",
    "    \n",
    "    #error calculation\n",
    "    error = (1/2)*(np.power((y_train[i]-out),2))\n",
    "    \n",
    "    #backpropagation\n",
    "    dEdOut = out - y_train[i]\n",
    "    dOutdIn = sigmoid_derivative(x_train[i]@w + b)\n",
    "    dIndW = x_train[i]\n",
    "    dEdW = (dIndW.reshape(len(dIndW),1))*dEdOut*dOutdIn #transposing 1D arrya, we can only use x.T for 2D or higher array\n",
    "    dEdB = dEdOut*dOutdIn*1"
   ]
  },
  {
   "cell_type": "markdown",
   "metadata": {},
   "source": [
    "***\n",
    "**T.1.6 Updating weights and bias**\n",
    "\n",
    "Now that we calculated $\\frac{\\sigma E}{\\sigma w}$ and $\\frac{\\sigma E}{\\sigma b}$ we can update the parameters of the perceptron (i.e. weights and bias) following the Gradient Descent algorithm."
   ]
  },
  {
   "cell_type": "code",
   "execution_count": 56,
   "metadata": {},
   "outputs": [],
   "source": [
    "np.random.seed(0)\n",
    "\n",
    "#initialising parameters\n",
    "w = np.random.uniform(-1,1,[x_train.shape[1],1])\n",
    "b = np.random.uniform(1)\n",
    "l = 0.05\n",
    "\n",
    "for i in range(len(x_train)):\n",
    "    #forward pass\n",
    "    in_ = x_train[i]@w+b\n",
    "    out = sigmoid(in_)\n",
    "    \n",
    "    #error calculation\n",
    "    error = (1/2)*(np.power((y_train[i]-out),2))\n",
    "    \n",
    "    #backpropagation\n",
    "    dEdOut = out - y_train[i]\n",
    "    dOutdIn = sigmoid_derivative(x_train[i]@w + b)\n",
    "    dIndW = x_train[i]\n",
    "    dEdW = (dIndW.reshape(len(dIndW),1))*dEdOut*dOutdIn #transposing 1D arrya, we can only use T for 2D or higher array\n",
    "    dEdB = dEdOut*dOutdIn*1\n",
    "   \n",
    "    #updating parameters of the model\n",
    "    w = w - l*dEdW\n",
    "    b = b - l*dEdB"
   ]
  },
  {
   "cell_type": "markdown",
   "metadata": {},
   "source": [
    "***\n",
    "**T1.7 Evaluation the Perceptron**\n",
    "\n",
    "In order to see whether the model improved after the training, calculate predictions for the train and test datasets and evaluate the performance using the mean square error metric. Compare the error before and after training to see whether there is any improvement. You can copy the code from the previous cell and update it accordingly."
   ]
  },
  {
   "cell_type": "code",
   "execution_count": 57,
   "metadata": {},
   "outputs": [
    {
     "name": "stdout",
     "output_type": "stream",
     "text": [
      "[[0.09762701]\n",
      " [0.43037873]]\n",
      "Train error:  0.311777375609104\n",
      "Test error:  0.3191802851880966\n",
      "[[-0.03301192]\n",
      " [ 0.35304283]]\n",
      "Train error:  0.2187886709519981\n",
      "Test error:  0.227954585830263\n"
     ]
    }
   ],
   "source": [
    "from sklearn import metrics\n",
    "\n",
    "np.random.seed(0)\n",
    "\n",
    "#initialising parameters\n",
    "w = np.random.uniform(-1,1,[x_train.shape[1],1])\n",
    "b = np.random.uniform(1)\n",
    "l = 0.05\n",
    "print(w)\n",
    "#testing the performance befor training\n",
    "print('Train error: ', metrics.mean_squared_error(sigmoid(x_train@w+b),y_train))\n",
    "print('Test error: ', metrics.mean_squared_error(sigmoid(x_test@w+b),y_test))\n",
    "\n",
    "for i in range(len(x_train)):\n",
    "    in_ = x_train[i]@w+b\n",
    "    out = sigmoid(in_)\n",
    "    error = (1/2)*(np.power((y_train[i]-out),2))\n",
    "    dEdOut = out - y_train[i]\n",
    "    dOutdIn = sigmoid_derivative(np.dot(x_train[i],w) + b)\n",
    "    dIndW = x_train[i]\n",
    "    dEdW = (dIndW.reshape(len(dIndW),1))*dEdOut*dOutdIn #transposing 1D arrya, we can only use T for 2D or higher array\n",
    "    dEdB = dEdOut*dOutdIn*1\n",
    "    w = w - l*dEdW\n",
    "    b = b - l*dEdB\n",
    "print(w)\n",
    "#testing the performance after training\n",
    "print('Train error: ', metrics.mean_squared_error(sigmoid(x_train@w+b),y_train))\n",
    "print('Test error: ', metrics.mean_squared_error(sigmoid(x_test@w+b),y_test))"
   ]
  },
  {
   "cell_type": "markdown",
   "metadata": {},
   "source": [
    "***\n",
    "**T1.8 Increasing batch size (Batch Gradient Descent Algorithm)**\n",
    "\n",
    "Edit your BP code so that the parameters are updated after the entire training set is passed through the perceptron. In other words, the batch size is equals to the size of the training set, not one like in the previous case. You can follow the same procedure as previously but use matrix notation so that the gradient is calculated for all the instances from the training dataset simultaneously. The parameters should be updated using the average of gradients obtained for all instances in the training dataset.\n",
    "\n",
    "Hints:\n",
    "\n",
    "- the input is a matrix of shape [$n=$no if instances in train set, $k=$no of features] \n",
    "- the output of the perceptron is a column vector, make sure that the vector with target values $y$ is of the same format. You may need to re-shape it.\n",
    "\n",
    "Using matrix notation, we can calculate the derivatives of the error as:\n",
    "\n",
    "<br>\n",
    "\n",
    "$$\\frac{\\sigma E}{\\sigma w} = \\frac{1}{n} \\times \\underbrace{X.T}_{\\text{transposed input matrix}}@\\left(\\underbrace{\\frac{1}{1+e^{-in}}\\times(1-\\frac{1}{1+e^{-in}})}_{\\text{derivative of the sigmoid function} \\\\ \\text{and it is a column vector of dimension $n$}}*\\underbrace{(out-y)}_{\\text{this is derivative of the squared error function} \\\\ \\text{ and it is a column vector of dimension $n$.}}\\right)$$\n",
    "\n",
    "<br>\n",
    "\n",
    "$$\\frac{\\sigma E}{\\sigma b} = \\frac{1}{n} \\times  \\underbrace{\\overrightarrow{1}}_{\\text{matrix [1,n]}} @ \\left(\\frac{1}{1+e^{-in}}\\times(1-\\frac{1}{1+e^{-in}})* (out-y)\\right)$$\n",
    "\n",
    "<br>\n",
    "\n",
    "Note: $\\times$ - scalar multiplication, $*$ - vector/matrix element wise multiplication, @ - matrix multiplication\n",
    "\n",
    "You can copy the code from the previous cell and update it accordingly.\n",
    "\n",
    "Evaluate the model and compare it with the previous results. What are your observations?\n"
   ]
  },
  {
   "cell_type": "code",
   "execution_count": 58,
   "metadata": {},
   "outputs": [
    {
     "name": "stdout",
     "output_type": "stream",
     "text": [
      "Train error:  0.311777375609104\n",
      "Test error:  0.3191802851880966\n",
      "Train error:  0.31064282244688235\n",
      "Test error:  0.3180659868199829\n"
     ]
    }
   ],
   "source": [
    "np.random.seed(0)\n",
    "\n",
    "y=y.reshape(len(y),1)\n",
    "x_train, x_test, y_train, y_test = train_test_split(x, y,test_size=0.2, random_state=0)\n",
    "\n",
    "w = np.random.uniform(-1,1,[x_train.shape[1],1])\n",
    "b = np.random.uniform(1)\n",
    "l = 0.05\n",
    "\n",
    "print('Train error: ', metrics.mean_squared_error(sigmoid(x_train@w+b),y_train))\n",
    "print('Test error: ', metrics.mean_squared_error(sigmoid(x_test@w+b),y_test))\n",
    "\n",
    "#forward pass\n",
    "in_ = x_train@w + b\n",
    "out = sigmoid(in_)\n",
    "\n",
    "#error calculation\n",
    "error = (1/2)*(np.power((y_train-out),2)).mean()\n",
    "\n",
    "#backpropagation\n",
    "dEdOut = out - y_train\n",
    "dOutdIn = sigmoid_derivative((x_train@w) + b) #dot will also work here\n",
    "dIndW = x_train\n",
    "dEdW = (1/x_train.shape[0])*(dIndW.T@(dEdOut*dOutdIn))\n",
    "dEdB = (1/x_train.shape[0])*np.ones([1,len(x_train)])@(dEdOut*dOutdIn)\n",
    "\n",
    "#updating weights\n",
    "w -= l*dEdW\n",
    "b -= l*dEdB\n",
    "    \n",
    "print('Train error: ', metrics.mean_squared_error(sigmoid(x_train@w+b),y_train))\n",
    "print('Test error: ', metrics.mean_squared_error(sigmoid(x_test@w+b),y_test))"
   ]
  },
  {
   "cell_type": "markdown",
   "metadata": {},
   "source": [
    "***\n",
    "**T1.9 Increasing number of epochs**\n",
    "\n",
    "One epoch means that all instances from the training set were passed through the network. Use a for loop in order to increase the number of epochs, i.e. to repeat the BP multiple times. You can test different number of epochs, you should get better results than before."
   ]
  },
  {
   "cell_type": "code",
   "execution_count": 59,
   "metadata": {
    "scrolled": false
   },
   "outputs": [
    {
     "name": "stdout",
     "output_type": "stream",
     "text": [
      "Train error:  0.311777375609104\n",
      "Test error:  0.3191802851880966\n",
      "Train error:  0.02760768858678833\n",
      "Test error:  0.051475372644967765\n"
     ]
    }
   ],
   "source": [
    "np.random.seed(0)\n",
    "w = np.random.uniform(-1,1,[x_train.shape[1],1])\n",
    "b = np.random.uniform(1)\n",
    "l = 0.05\n",
    "\n",
    "y=y.reshape(len(y),1)\n",
    "x_train, x_test, y_train, y_test = train_test_split(x, y,test_size=0.2, random_state=0)\n",
    "\n",
    "print('Train error: ', metrics.mean_squared_error(sigmoid(x_train@w+b),y_train))\n",
    "print('Test error: ', metrics.mean_squared_error(sigmoid(x_test@w+b),y_test))\n",
    "\n",
    "for epoch in range(1000):\n",
    "    in_ = x_train@w + b\n",
    "    out = sigmoid(in_)\n",
    "    error = (1/2)*(np.power((y_train-out),2)).mean()\n",
    "    dEdOut = out - y_train\n",
    "    dOutdIn = sigmoid_derivative((x_train@w) + b) #dot will also work here\n",
    "    dIndW = x_train\n",
    "    dEdW = (1/x_train.shape[0])*(dIndW.T@(dEdOut*dOutdIn))\n",
    "    dEdB = (1/x_train.shape[0])*np.ones([1,len(x_train)])@(dEdOut*dOutdIn)\n",
    "    w -= l*dEdW\n",
    "    b -= l*dEdB\n",
    "\n",
    "print('Train error: ', metrics.mean_squared_error(sigmoid(x_train@w+b),y_train))\n",
    "print('Test error: ', metrics.mean_squared_error(sigmoid(x_test@w+b),y_test))"
   ]
  },
  {
   "cell_type": "markdown",
   "metadata": {},
   "source": [
    "***\n",
    "**T.1.10 Visualizing the train/test error**\n",
    "\n",
    "Visualize how the train/test error changes across the epochs using matplotlib. For this purpose you should create two empty lists $train=[]$ and $test=[]$. For each epoch calculate the train and test error and [append them to the lists](https://docs.python.org/2/tutorial/datastructures.html). Finally, once the perceptron is trained you will be able to visualize the error as follows:\n",
    "\n",
    "z=np.arange(number of epochs)<br>\n",
    "plt.plot(z,train,label=\"train\",color='red')<br>\n",
    "plt.plot(z,test,label=\"test\",color='blue')<br>\n",
    "plt.legend(loc='best')<br>\n",
    "plt.show()"
   ]
  },
  {
   "cell_type": "code",
   "execution_count": 60,
   "metadata": {},
   "outputs": [
    {
     "data": {
      "image/png": "[encoded data removed]",
      "text/plain": [
       "<Figure size 432x288 with 1 Axes>"
      ]
     },
     "metadata": {
      "needs_background": "light"
     },
     "output_type": "display_data"
    }
   ],
   "source": [
    "import matplotlib.pyplot as plt\n",
    "np.random.seed(0)\n",
    "w = np.random.uniform(-1,1,[x_train.shape[1],1])\n",
    "b = np.random.uniform(1)\n",
    "l = 0.05\n",
    "\n",
    "y=y.reshape(len(y),1)\n",
    "x_train, x_test, y_train, y_test = train_test_split(x, y,test_size=0.2, random_state=0)\n",
    "\n",
    "train = []\n",
    "test = []\n",
    "\n",
    "for epoch in range(1000):\n",
    "    in_ = x_train@w + b\n",
    "    out = sigmoid(in_)\n",
    "    error_train = 0.5*np.power((y_train-out),2)\n",
    "    error_test = 0.5*np.power(sigmoid(x_test@w+b)-y_test,2)\n",
    "    train.append(error_train.mean())\n",
    "    test.append(error_test.mean())\n",
    "    dEdOut = out - y_train\n",
    "    dOutdIn = sigmoid_derivative((x_train@w) + b) #dot will also work here\n",
    "    dIndW = x_train\n",
    "    dEdW = (1/x_train.shape[0])*dIndW.T@(dEdOut*dOutdIn)\n",
    "    dEdB = (1/x_train.shape[0])*np.ones([1,len(x_train)])@(dEdOut*dOutdIn)\n",
    "    w -= l*dEdW\n",
    "    b -= l*dEdB\n",
    "    \n",
    "z=np.arange(1000)\n",
    "plt.plot(z,train,label=\"train\",color='red')\n",
    "plt.plot(z,test,label=\"test\",color='blue')\n",
    "plt.legend(loc='best')\n",
    "plt.show()"
   ]
  },
  {
   "cell_type": "markdown",
   "metadata": {},
   "source": [
    "## Task 2: Using Perceptron for binary classification"
   ]
  },
  {
   "cell_type": "markdown",
   "metadata": {},
   "source": [
    "***\n",
    "**T2.1 Implementing perceptron for classification**\n",
    "\n",
    "Apply Batch Gradient Descent to train a perceptron model with the binary classification dataset uploaded below. You should use binary cross entropy loss function instead of MSE. Apart form the error, calculate the accuracy of the predictions made by the model on the train and test sets in each epoch. In order to convert outputs of the sigmoid function (floats between 0 and 1) into labels (0 or 1), you can apply a threshold of 0.5 (i.e. if the output is greater that 0.5 then the prediction is 1, otherwise the prediction is 0). There is a very useful numpy [method](https://docs.scipy.org/doc/numpy-1.13.0/reference/generated/numpy.where.html) that can help with this. Visualize how the train/test error and accuracy change over the epochs. Use 1000 epochs."
   ]
  },
  {
   "cell_type": "code",
   "execution_count": 61,
   "metadata": {},
   "outputs": [
    {
     "data": {
      "image/png": "[encoded data removed]",
      "text/plain": [
       "<Figure size 720x504 with 1 Axes>"
      ]
     },
     "metadata": {
      "needs_background": "light"
     },
     "output_type": "display_data"
    }
   ],
   "source": [
    "from sklearn import datasets\n",
    "\n",
    "x, y = datasets.make_moons(500, noise=0.1)\n",
    "plt.figure(figsize=(10,7))\n",
    "plt.scatter(x[:,0], x[:,1], c=y, cmap=plt.cm.winter)\n",
    "\n",
    "y=y.reshape(len(y),1)\n",
    "x_train, x_test, y_train, y_test = train_test_split(x, y,test_size=0.2, random_state=0)"
   ]
  },
  {
   "cell_type": "code",
   "execution_count": 62,
   "metadata": {},
   "outputs": [],
   "source": [
    "def crossEntrop(o,y):\n",
    "    return (-y*(np.log(o)) - (1-y)* np.log(1-o))"
   ]
  },
  {
   "cell_type": "code",
   "execution_count": 63,
   "metadata": {},
   "outputs": [],
   "source": [
    "def crossEntrDeriv(o,y):\n",
    "    return -(y/o - (1-y)/(1-o))"
   ]
  },
  {
   "cell_type": "code",
   "execution_count": 64,
   "metadata": {},
   "outputs": [
    {
     "name": "stdout",
     "output_type": "stream",
     "text": [
      "Final Accuracy:  0.83\n"
     ]
    },
    {
     "name": "stderr",
     "output_type": "stream",
     "text": [
      "C:\\Users\\DanielCollins\\AppData\\Roaming\\Python\\Python37\\site-packages\\ipykernel_launcher.py:47: UserWarning: Matplotlib is currently using module://matplotlib_inline.backend_inline, which is a non-GUI backend, so cannot show the figure.\n",
      "C:\\Users\\DanielCollins\\AppData\\Roaming\\Python\\Python37\\site-packages\\ipykernel_launcher.py:54: UserWarning: Matplotlib is currently using module://matplotlib_inline.backend_inline, which is a non-GUI backend, so cannot show the figure.\n"
     ]
    },
    {
     "data": {
      "image/png": "[encoded data removed]",
      "text/plain": [
       "<Figure size 432x288 with 1 Axes>"
      ]
     },
     "metadata": {
      "needs_background": "light"
     },
     "output_type": "display_data"
    },
    {
     "data": {
      "image/png": "[encoded data removed]",
      "text/plain": [
       "<Figure size 432x288 with 1 Axes>"
      ]
     },
     "metadata": {
      "needs_background": "light"
     },
     "output_type": "display_data"
    }
   ],
   "source": [
    "np.random.seed(0)\n",
    "w = np.random.uniform(-1,1,[x_train.shape[1],1])\n",
    "b = np.random.uniform(1)\n",
    "l = 0.05\n",
    "\n",
    "\n",
    "train_E = []\n",
    "test_E = []\n",
    "train_Acc = []\n",
    "test_Acc = []\n",
    "epochs = 1000\n",
    "\n",
    "for epoch in range(epochs):\n",
    "    #feedforward\n",
    "    in_ = x_train@w + b\n",
    "    out = sigmoid(in_)\n",
    "    \n",
    "    #error\n",
    "    error_train = crossEntrop(out,y_train)\n",
    "    error_test = crossEntrop(sigmoid(x_test@w+b),y_test)\n",
    "    train_E.append(error_train.mean())\n",
    "    test_E.append(error_test.mean())\n",
    "    \n",
    "    #accuracy\n",
    "    predictions_train = np.where(out > 0.5, 1,0)\n",
    "    prediction_test = np.where(sigmoid(x_test@w+b) > 0.5,1,0)\n",
    "    train_Acc.append(metrics.accuracy_score(y_train,predictions_train))\n",
    "    test_Acc.append(metrics.accuracy_score(y_test,prediction_test))\n",
    "    \n",
    "    #backpropagation\n",
    "    dEdOut = crossEntrDeriv(out, y_train)\n",
    "    dOutdIn = sigmoid_derivative((x_train@w) + b) #dot will also work here\n",
    "    dIndW = x_train\n",
    "    dEdW = (1/x_train.shape[0])*dIndW.T@(dEdOut*dOutdIn)\n",
    "    dEdB = (1/x_train.shape[0])*np.ones([1,len(x_train)])@(dEdOut*dOutdIn)\n",
    "    w -= l*dEdW\n",
    "    b -= l*dEdB\n",
    "print('Final Accuracy: ', metrics.accuracy_score(y_test,(np.where(sigmoid(x_test@w+b) > 0.5,1,0))))\n",
    "    \n",
    "z=np.arange(epochs)\n",
    "f1=plt.figure(1)\n",
    "plt.plot(z,train_E,label=\"train\",color='red')\n",
    "plt.plot(z,test_E,label=\"test\",color='blue')\n",
    "#plt.plot(z,test,label=\"test\",color='blue')\n",
    "plt.legend(loc='best')\n",
    "plt.title('Error')\n",
    "f1.show()\n",
    "f2=plt.figure(2)\n",
    "plt.plot(z,train_Acc,label=\"train\",color='red')\n",
    "plt.plot(z,test_Acc,label=\"test\",color='blue')\n",
    "#plt.plot(z,test,label=\"test\",color='blue')\n",
    "plt.legend(loc='best')\n",
    "plt.title('Accuracy')\n",
    "f2.show()"
   ]
  },
  {
   "cell_type": "markdown",
   "metadata": {},
   "source": [
    "***\n",
    "**T2.2 Evaluating model with cross validation**\n",
    "\n",
    "Instead of splitting the dataset into train and test sets as in T2.1, use 5-cross validation. Report the average accuracy across the folds. "
   ]
  },
  {
   "cell_type": "code",
   "execution_count": 65,
   "metadata": {},
   "outputs": [
    {
     "name": "stdout",
     "output_type": "stream",
     "text": [
      "Test Accuracy:  0.8720000000000001\n"
     ]
    }
   ],
   "source": [
    "from sklearn.model_selection import KFold\n",
    "kf = KFold(n_splits=5, shuffle=True)\n",
    "\n",
    "test_Acc = []#for storing test error from each fold\n",
    "\n",
    "for train_index, test_index in kf.split(x):\n",
    "    #initializing weights\n",
    "    np.random.seed(0)\n",
    "    w = np.random.uniform(-1,1,[x.shape[1],1])\n",
    "    b = np.random.uniform(1)\n",
    "    l = 0.05\n",
    "    \n",
    "    for epoch in range(1000):\n",
    "        #feedforward\n",
    "        in_ = x[train_index]@w + b\n",
    "        out = sigmoid(in_)\n",
    "\n",
    "        #error\n",
    "        error_train = crossEntrop(out,y[train_index])\n",
    "        \n",
    "        #backpropagation\n",
    "        dEdOut = crossEntrDeriv(out, y[train_index])\n",
    "        dOutdIn = sigmoid_derivative((x[train_index]@w) + b) #dot will also work here\n",
    "        dIndW = x[train_index]\n",
    "        dEdW = (1/x[train_index].shape[0])*dIndW.T@(dEdOut*dOutdIn)\n",
    "        dEdB = (1/x[train_index].shape[0])*np.ones([1,len(x[train_index])])@(dEdOut*dOutdIn)\n",
    "        w -= l*dEdW\n",
    "        b -= l*dEdB\n",
    "        \n",
    "    #accuracy\n",
    "    prediction_test = np.where(sigmoid(x[test_index]@w+b) > 0.5,1,0)\n",
    "    test_Acc.append(metrics.accuracy_score(y[test_index],prediction_test))\n",
    "\n",
    "print('Test Accuracy: ',sum(test_Acc)/len(test_Acc))"
   ]
  },
  {
   "cell_type": "markdown",
   "metadata": {},
   "source": [
    "## Task 3: Solving Regression problem with Batch and Mini-batch GD"
   ]
  },
  {
   "cell_type": "markdown",
   "metadata": {},
   "source": [
    "***\n",
    "\n",
    "Implement Batch Gradient Descent and Mini-Batch Gradient Descent to train a perceptron with diabetes dataset from [sklearn](https://scikit-learn.org/stable/datasets/index.html). Use Leaky ReLu (you can also try ReLu) as activation function and 64 as the size of the mini-batch (try different sizes of mini-batch). Compare the errors obtained by both of the algorithms after 500 training epochs (try different numbers of epochs to see what happens). Check whether scaling the input data makes any difference.\n"
   ]
  },
  {
   "cell_type": "code",
   "execution_count": 66,
   "metadata": {},
   "outputs": [],
   "source": [
    "from sklearn import preprocessing\n",
    "\n",
    "x, y = datasets.load_diabetes(return_X_y=True)\n",
    "y=y.reshape(len(y),1)\n",
    "#scaling the input data\n",
    "x = preprocessing.MinMaxScaler().fit_transform(x)"
   ]
  },
  {
   "cell_type": "markdown",
   "metadata": {},
   "source": [
    "Activation Functions and their derivatives"
   ]
  },
  {
   "cell_type": "code",
   "execution_count": 67,
   "metadata": {},
   "outputs": [],
   "source": [
    "def LReLU(x):\n",
    "    return np.where(x > 0, x, x * 0.01)\n",
    "\n",
    "def dLReLU(x):\n",
    "    return np.where(x > 0, 1, 0.01)\n",
    "   "
   ]
  },
  {
   "cell_type": "markdown",
   "metadata": {},
   "source": [
    "Batch Gradient Descent"
   ]
  },
  {
   "cell_type": "code",
   "execution_count": 68,
   "metadata": {},
   "outputs": [
    {
     "name": "stdout",
     "output_type": "stream",
     "text": [
      "Error after training:  1535.6951828845483\n"
     ]
    },
    {
     "data": {
      "image/png": "[encoded data removed]",
      "text/plain": [
       "<Figure size 432x288 with 1 Axes>"
      ]
     },
     "metadata": {
      "needs_background": "light"
     },
     "output_type": "display_data"
    }
   ],
   "source": [
    " #initializing weights\n",
    "np.random.seed(0)\n",
    "w = np.random.uniform(-1,1,[x.shape[1],1])\n",
    "b = np.random.uniform(1)\n",
    "l = 0.05\n",
    "\n",
    "error = []\n",
    "\n",
    "for epoch in range(500):\n",
    "    #feed forward\n",
    "    in_ = x@w + b\n",
    "    out = LReLU(in_)\n",
    "\n",
    "    #error\n",
    "    error_train = 0.5*np.power((y-out),2)\n",
    "    if epoch > 10: #skipping the first few epochs so the error on the graph is better visible\n",
    "        error.append(error_train.mean())\n",
    "    \n",
    "    #backpropagation\n",
    "    dEdOut = out - y\n",
    "    dOutdIn = dLReLU(in_) \n",
    "    dIndW = x\n",
    "    dEdW = (1/x.shape[0])*dIndW.T@(dEdOut*dOutdIn)\n",
    "    dEdB = (1/x.shape[0])*np.ones([1,len(x)])@(dEdOut*dOutdIn)\n",
    "    w -= l*dEdW\n",
    "    b -= l*dEdB\n",
    "    \n",
    "print('Error after training: ',error[len(error)-1]) \n",
    "    \n",
    "z=np.arange(len(error))\n",
    "plt.plot(z,error,label=\"train\",color='red')\n",
    "plt.legend(loc='best')\n",
    "plt.show()"
   ]
  },
  {
   "cell_type": "markdown",
   "metadata": {},
   "source": [
    "Mini-Batch Gradient descent"
   ]
  },
  {
   "cell_type": "code",
   "execution_count": 69,
   "metadata": {},
   "outputs": [
    {
     "name": "stdout",
     "output_type": "stream",
     "text": [
      "Error after training:  1439.5965965933501\n"
     ]
    },
    {
     "data": {
      "image/png": "[encoded data removed]",
      "text/plain": [
       "<Figure size 432x288 with 1 Axes>"
      ]
     },
     "metadata": {
      "needs_background": "light"
     },
     "output_type": "display_data"
    }
   ],
   "source": [
    "minibatch_size = 64\n",
    "\n",
    "#initializing weights\n",
    "np.random.seed(0)\n",
    "w = np.random.uniform(-1,1,[x.shape[1],1])\n",
    "b = np.random.uniform(1)\n",
    "l = 0.05\n",
    "\n",
    "error = []\n",
    "\n",
    "for epoch in range(500):\n",
    "    for i in range(0, x.shape[0], minibatch_size):\n",
    "        x_mini = x[i:i + minibatch_size-1,:]\n",
    "        y_mini = y[i:i + minibatch_size-1,:]\n",
    "        \n",
    "         #feed forward\n",
    "        in_ = x_mini@w + b\n",
    "        out = LReLU(in_)\n",
    "\n",
    "        #error\n",
    "        error_train = 0.5*np.power((y_mini-out),2)\n",
    "\n",
    "        #backpropagation\n",
    "        dEdOut = out - y_mini\n",
    "        dOutdIn = dLReLU(in_) \n",
    "        dIndW = x_mini\n",
    "        dEdW = (1/x_mini.shape[0])*dIndW.T@(dEdOut*dOutdIn)\n",
    "        dEdB = (1/x_mini.shape[0])*np.ones([1,len(x_mini)])@(dEdOut*dOutdIn)\n",
    "        w -= l*dEdW\n",
    "        b -= l*dEdB\n",
    "    \n",
    "    if epoch > 10:\n",
    "        error.append(0.5*np.power((LReLU(x@w + b)-y),2).mean())\n",
    "\n",
    "print('Error after training: ',error[len(error)-1])\n",
    "        \n",
    "z=np.arange(len(error))\n",
    "plt.plot(z,error,label=\"train\",color='red')\n",
    "plt.legend(loc='best')\n",
    "plt.show()"
   ]
  }
 ],
 "metadata": {
  "kernelspec": {
   "display_name": "Python 3",
   "language": "python",
   "name": "python3"
  },
  "language_info": {
   "codemirror_mode": {
    "name": "ipython",
    "version": 3
   },
   "file_extension": ".py",
   "mimetype": "text/x-python",
   "name": "python",
   "nbconvert_exporter": "python",
   "pygments_lexer": "ipython3",
   "version": "3.7.8"
  }
 },
 "nbformat": 4,
 "nbformat_minor": 2
}
