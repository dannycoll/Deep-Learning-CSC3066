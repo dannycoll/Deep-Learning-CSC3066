{
 "cells": [
  {
   "cell_type": "markdown",
   "metadata": {},
   "source": [
    "Import revelant packages"
   ]
  },
  {
   "cell_type": "code",
   "execution_count": 265,
   "metadata": {},
   "outputs": [],
   "source": [
    "import numpy as np\n",
    "from sklearn import preprocessing\n",
    "from sklearn import datasets\n",
    "import matplotlib.pyplot as plt\n",
    "import pandas as pd\n",
    "from sklearn.model_selection import train_test_split\n",
    "from sklearn import metrics"
   ]
  },
  {
   "cell_type": "markdown",
   "metadata": {},
   "source": [
    "Read in the data set, split into data (`x`) and labels (`y`) then scale the data "
   ]
  },
  {
   "cell_type": "code",
   "execution_count": 266,
   "metadata": {},
   "outputs": [],
   "source": [
    "data = pd.read_csv(\"Mixcancer.csv\")\n",
    "y = np.asarray(data.pop('Diagnosis'))\n",
    "x = np.asarray(data)\n",
    "\n",
    "x = preprocessing.MinMaxScaler().fit_transform(x)"
   ]
  },
  {
   "cell_type": "markdown",
   "metadata": {},
   "source": [
    "Split data and labels into test & train sets"
   ]
  },
  {
   "cell_type": "code",
   "execution_count": 267,
   "metadata": {},
   "outputs": [],
   "source": [
    "x_train, x_test, y_train, y_test = train_test_split(x, y,test_size=0.5, random_state=0)\n"
   ]
  },
  {
   "cell_type": "markdown",
   "metadata": {},
   "source": [
    "Sigmoid activation & derivative"
   ]
  },
  {
   "cell_type": "code",
   "execution_count": 268,
   "metadata": {},
   "outputs": [],
   "source": [
    "def sigmoid(v):\n",
    "    return 1/(1+np.exp(-v))\n",
    "\n",
    "def sigmoid_derivative(v):\n",
    "    return sigmoid(v)*(1-sigmoid(v))"
   ]
  },
  {
   "cell_type": "markdown",
   "metadata": {},
   "source": [
    "Relu activation & derivative"
   ]
  },
  {
   "cell_type": "code",
   "execution_count": 269,
   "metadata": {},
   "outputs": [],
   "source": [
    "def LReLU(x):\n",
    "    return np.where(x > 0, x, x * 0.01)\n",
    "\n",
    "def dLReLU(x):\n",
    "    return np.where(x > 0, 1, 0.01)"
   ]
  },
  {
   "cell_type": "markdown",
   "metadata": {},
   "source": [
    "Cross entropy & derivative"
   ]
  },
  {
   "cell_type": "code",
   "execution_count": 270,
   "metadata": {},
   "outputs": [],
   "source": [
    "def crossEntrop(o,y):\n",
    "    return (-y*(np.log(o)) - (1-y)* np.log(1-o))\n",
    "\n",
    "def crossEntrDeriv(o,y):\n",
    "  return -(y/o - (1-y)/(1-o))"
   ]
  },
  {
   "cell_type": "markdown",
   "metadata": {},
   "source": [
    "Define layer sizes"
   ]
  },
  {
   "cell_type": "code",
   "execution_count": 271,
   "metadata": {},
   "outputs": [],
   "source": [
    "layer_1_size = 20\n",
    "layer_2_size = 1"
   ]
  },
  {
   "cell_type": "markdown",
   "metadata": {},
   "source": [
    "Initialise weights & biases"
   ]
  },
  {
   "cell_type": "code",
   "execution_count": 272,
   "metadata": {},
   "outputs": [],
   "source": [
    "w1 = np.random.uniform(-1,1,[x_train.shape[1],layer_1_size])\n",
    "w2 = np.random.uniform(-1,1,[layer_1_size])\n",
    "\n",
    "b1 = np.zeros(layer_1_size)\n",
    "b2 = np.zeros(layer_2_size)"
   ]
  },
  {
   "cell_type": "markdown",
   "metadata": {},
   "source": [
    "Initialise variables for training"
   ]
  },
  {
   "cell_type": "code",
   "execution_count": 273,
   "metadata": {},
   "outputs": [],
   "source": [
    "epochs = 4000\n",
    "lr = 0.002\n",
    "batch_size = 128"
   ]
  },
  {
   "cell_type": "markdown",
   "metadata": {},
   "source": [
    "Train the model"
   ]
  },
  {
   "cell_type": "code",
   "execution_count": 274,
   "metadata": {},
   "outputs": [],
   "source": [
    "n = len(x_train[1])\n",
    "train_E = []\n",
    "test_E = []\n",
    "train_Acc = []\n",
    "test_Acc = []\n",
    "for epoch in range(epochs):\n",
    "  for i in range(0, x_train.shape[0], batch_size):\n",
    "    x_batch = x_train[i:i + batch_size,:]\n",
    "    y_batch = y_train[i:i + batch_size]\n",
    "    if b1.shape != [layer_1_size,]:\n",
    "      b1 = b1.reshape([layer_1_size,])\n",
    "    if w2.shape != [layer_1_size,]:\n",
    "      w2 = w2.reshape([layer_1_size,])\n",
    "    in1 = x_batch@w1+b1\n",
    "    out1 = LReLU(in1)\n",
    "    in2 = out1@w2+b2\n",
    "    out2 = sigmoid(in2)\n",
    "\n",
    "    dEdO2 = crossEntrDeriv(out2,y_batch)\n",
    "    dO2dIn2 = sigmoid_derivative(in2)\n",
    "    dO1dIn1 = dLReLU(in1)\n",
    "    \n",
    "    dEdW2 = 1/n * out1.T@(dEdO2*dO2dIn2)\n",
    "    dEdB2 = 1/n * np.ones([1,x_batch.shape[0]])@(dEdO2*dO2dIn2)\n",
    "    \n",
    "    w2 = w2.reshape(1,w2.shape[0])\n",
    "\n",
    "    dEdW1 = 1/n * x_batch.T@((np.reshape(dEdO2*dO2dIn2,[len(x_batch),1])@w2)*dO1dIn1)\n",
    "    dEdB1 = 1/n * np.ones([1,x_batch.shape[0]])@((np.reshape(dEdO2*dO2dIn2,[len(x_batch),1])@w2)*dO1dIn1)\n",
    "\n",
    "    w1 -= lr*dEdW1\n",
    "    w2 -= lr*dEdW2\n",
    "    b1 -= lr*dEdB1[0,:]\n",
    "    b2 -= lr*dEdB2\n",
    "  error_train = crossEntrop(out2,y_batch)\n",
    "  b1 = b1.reshape([layer_1_size,])\n",
    "  w2 = w2.reshape([layer_1_size,])\n",
    "  error_test = crossEntrop(sigmoid(LReLU(x_test@w1+b1)@w2+b2),y_test)\n",
    "\n",
    "  train_E.append(error_train.mean())\n",
    "  test_E.append(error_test.mean())\n",
    "\n",
    "  predictions_train = np.where(out2 > 0.5, 1,0)\n",
    "  prediction_test = np.where(sigmoid(LReLU(x_test@w1+b1)@w2+b2) > 0.5,1,0)\n",
    "  train_Acc.append(metrics.accuracy_score(y_batch,predictions_train))\n",
    "  test_Acc.append(metrics.accuracy_score(y_test,prediction_test))\n"
   ]
  },
  {
   "cell_type": "markdown",
   "metadata": {},
   "source": [
    "Plot accuracies & errors"
   ]
  },
  {
   "cell_type": "code",
   "execution_count": 275,
   "metadata": {},
   "outputs": [
    {
     "data": {
      "image/png": "[encoded data removed]",
      "text/plain": [
       "<Figure size 432x288 with 1 Axes>"
      ]
     },
     "metadata": {
      "needs_background": "light"
     },
     "output_type": "display_data"
    },
    {
     "data": {
      "image/png": "[encoded data removed]",
      "text/plain": [
       "<Figure size 432x288 with 1 Axes>"
      ]
     },
     "metadata": {
      "needs_background": "light"
     },
     "output_type": "display_data"
    },
    {
     "name": "stdout",
     "output_type": "stream",
     "text": [
      "0.9754098360655737 0.928\n"
     ]
    }
   ],
   "source": [
    "plt.plot(train_Acc,label='Train Acc')\n",
    "plt.plot(test_Acc,label='Test Acc')\n",
    "plt.legend()\n",
    "plt.show()\n",
    "plt.plot(train_E,label='Train Err')\n",
    "plt.plot(test_E,label='Test Err')\n",
    "plt.legend()\n",
    "plt.show()\n",
    "print(train_Acc[-1],test_Acc[-1])"
   ]
  }
 ],
 "metadata": {
  "interpreter": {
   "hash": "57baa5815c940fdaff4d14510622de9616cae602444507ba5d0b6727c008cbd6"
  },
  "kernelspec": {
   "display_name": "Python 3.7.8 64-bit",
   "language": "python",
   "name": "python3"
  },
  "language_info": {
   "codemirror_mode": {
    "name": "ipython",
    "version": 3
   },
   "file_extension": ".py",
   "mimetype": "text/x-python",
   "name": "python",
   "nbconvert_exporter": "python",
   "pygments_lexer": "ipython3",
   "version": "3.7.8"
  },
  "orig_nbformat": 4
 },
 "nbformat": 4,
 "nbformat_minor": 2
}
