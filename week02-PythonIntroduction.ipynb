{
 "cells": [
  {
   "cell_type": "markdown",
   "metadata": {},
   "source": [
    "Week 1: Basics on Python, Numpy and Matplotlib"
   ]
  },
  {
   "cell_type": "markdown",
   "metadata": {},
   "source": [
    "Adapted from  CS228 Python Tutorial (by [Volodymyr Kuleshov](http://web.stanford.edu/~kuleshov/) and [Isaac Caswell](https://symsys.stanford.edu/viewing/symsysaffiliate/21335))"
   ]
  },
  {
   "cell_type": "markdown",
   "metadata": {},
   "source": [
    "## Introduction"
   ]
  },
  {
   "cell_type": "markdown",
   "metadata": {},
   "source": [
    "Python is a great general-purpose programming language on its own, but with the help of a few popular libraries (numpy, scipy, matplotlib) it becomes a powerful environment for scientific computing.\n",
    "\n",
    "We expect that many of you will have some experience with Python and numpy; for the rest of you, this section will serve as a quick crash course both on the Python programming language and on the use of Python for scientific computing."
   ]
  },
  {
   "cell_type": "markdown",
   "metadata": {},
   "source": [
    "In this tutorial, we will cover:\n",
    "\n",
    "* Basic Python: Basic data types (Containers, Lists, Dictionaries, Sets, Tuples), Functions, Classes\n",
    "* Numpy: Arrays, Array indexing, Datatypes, Array math, Broadcasting\n",
    "* Matplotlib: Plotting, Subplots, Images\n",
    "* IPython: Creating notebooks, Typical workflows"
   ]
  },
  {
   "cell_type": "markdown",
   "metadata": {},
   "source": [
    "## Basics of Python"
   ]
  },
  {
   "cell_type": "markdown",
   "metadata": {},
   "source": [
    "Python is a high-level, dynamically typed multiparadigm programming language. Python code is often said to be almost like pseudocode, since it allows you to express very powerful ideas in very few lines of code while being very readable. As an example, here is an implementation of the classic quicksort algorithm in Python:"
   ]
  },
  {
   "cell_type": "code",
   "execution_count": 1,
   "metadata": {},
   "outputs": [
    {
     "name": "stdout",
     "output_type": "stream",
     "text": [
      "[1, 1, 2, 3, 6, 8, 10]\n"
     ]
    }
   ],
   "source": [
    "def quicksort(arr):\n",
    "    if len(arr) <= 1:\n",
    "        return arr\n",
    "    pivot = arr[len(arr) // 2]\n",
    "    left = [x for x in arr if x < pivot]\n",
    "    middle = [x for x in arr if x == pivot]\n",
    "    right = [x for x in arr if x > pivot]\n",
    "    return quicksort(left) + middle + quicksort(right)\n",
    "\n",
    "print(quicksort([3,6,8,10,1,2,1]))"
   ]
  },
  {
   "cell_type": "markdown",
   "metadata": {},
   "source": [
    "### Python versions"
   ]
  },
  {
   "cell_type": "markdown",
   "metadata": {},
   "source": [
    "For this class all code will use Python 3.7\n",
    "\n",
    "You can check your Python version at the command line by running `python --version`."
   ]
  },
  {
   "cell_type": "markdown",
   "metadata": {},
   "source": [
    "### Basic data types"
   ]
  },
  {
   "cell_type": "markdown",
   "metadata": {},
   "source": [
    "#### Numbers"
   ]
  },
  {
   "cell_type": "markdown",
   "metadata": {},
   "source": [
    "Integers and floats work as you would expect from other languages:"
   ]
  },
  {
   "cell_type": "code",
   "execution_count": 2,
   "metadata": {},
   "outputs": [
    {
     "name": "stdout",
     "output_type": "stream",
     "text": [
      "3 <class 'int'>\n"
     ]
    }
   ],
   "source": [
    "x = 3\n",
    "print (x, type(x))"
   ]
  },
  {
   "cell_type": "code",
   "execution_count": 3,
   "metadata": {},
   "outputs": [
    {
     "name": "stdout",
     "output_type": "stream",
     "text": [
      "4\n",
      "2\n",
      "6\n",
      "9\n"
     ]
    }
   ],
   "source": [
    "print (x + 1)   # Addition;\n",
    "print (x - 1)   # Subtraction;\n",
    "print (x * 2)   # Multiplication;\n",
    "print (x ** 2)  # Exponentiation;"
   ]
  },
  {
   "cell_type": "code",
   "execution_count": 4,
   "metadata": {},
   "outputs": [
    {
     "name": "stdout",
     "output_type": "stream",
     "text": [
      "4\n",
      "8\n"
     ]
    }
   ],
   "source": [
    "x += 1\n",
    "print (x)  # Prints \"4\"\n",
    "x *= 2\n",
    "print (x)  # Prints \"8\""
   ]
  },
  {
   "cell_type": "code",
   "execution_count": 5,
   "metadata": {},
   "outputs": [
    {
     "name": "stdout",
     "output_type": "stream",
     "text": [
      "<class 'float'>\n",
      "2.5 3.5 5.0 6.25\n"
     ]
    }
   ],
   "source": [
    "y = 2.5\n",
    "print (type(y)) # Prints \"<type 'float'>\"\n",
    "print (y, y + 1, y * 2, y ** 2) # Prints \"2.5 3.5 5.0 6.25\""
   ]
  },
  {
   "cell_type": "markdown",
   "metadata": {},
   "source": [
    "Note that unlike many languages, Python does not have unary increment (x++) or decrement (x--) operators.\n",
    "\n",
    "Python also has built-in types for long integers and complex numbers; you can find all of the details in the [documentation](https://docs.python.org/2/library/stdtypes.html#numeric-types-int-float-long-complex)."
   ]
  },
  {
   "cell_type": "markdown",
   "metadata": {},
   "source": [
    "#### Booleans"
   ]
  },
  {
   "cell_type": "markdown",
   "metadata": {},
   "source": [
    "Python implements all of the usual operators for Boolean logic, but uses English words rather than symbols (`&&`, `||`, etc.):"
   ]
  },
  {
   "cell_type": "code",
   "execution_count": 6,
   "metadata": {},
   "outputs": [
    {
     "name": "stdout",
     "output_type": "stream",
     "text": [
      "<class 'bool'>\n"
     ]
    }
   ],
   "source": [
    "t, f = True, False\n",
    "print (type(t)) # Prints \"<type 'bool'>\""
   ]
  },
  {
   "cell_type": "markdown",
   "metadata": {},
   "source": [
    "Now we let's look at the operations:"
   ]
  },
  {
   "cell_type": "code",
   "execution_count": 7,
   "metadata": {},
   "outputs": [
    {
     "name": "stdout",
     "output_type": "stream",
     "text": [
      "False\n",
      "True\n",
      "False\n",
      "True\n"
     ]
    }
   ],
   "source": [
    "print (t and f) # Logical AND;\n",
    "print (t or f)  # Logical OR;\n",
    "print (not t)   # Logical NOT;\n",
    "print (t != f)  # Logical XOR;"
   ]
  },
  {
   "cell_type": "markdown",
   "metadata": {},
   "source": [
    "#### Strings"
   ]
  },
  {
   "cell_type": "code",
   "execution_count": 8,
   "metadata": {},
   "outputs": [
    {
     "name": "stdout",
     "output_type": "stream",
     "text": [
      "hello 5\n"
     ]
    }
   ],
   "source": [
    "hello_str = \"hello\"   # String literals can use single quotes\n",
    "world = \"world\"   # or double quotes; it does not matter.\n",
    "print (hello_str, len(hello_str))"
   ]
  },
  {
   "cell_type": "code",
   "execution_count": 9,
   "metadata": {},
   "outputs": [
    {
     "name": "stdout",
     "output_type": "stream",
     "text": [
      "hello world\n"
     ]
    }
   ],
   "source": [
    "hw = hello_str + ' ' + world  # String concatenation\n",
    "print (hw)  # prints \"hello world\""
   ]
  },
  {
   "cell_type": "code",
   "execution_count": 10,
   "metadata": {},
   "outputs": [
    {
     "name": "stdout",
     "output_type": "stream",
     "text": [
      "hello world 12\n"
     ]
    }
   ],
   "source": [
    "hw12 = '%s %s %d' % (hello_str, world, 12)  # sprintf style string formatting\n",
    "print (hw12)  # prints \"hello world 12\""
   ]
  },
  {
   "cell_type": "markdown",
   "metadata": {},
   "source": [
    "String objects have a bunch of useful methods; for example:"
   ]
  },
  {
   "cell_type": "code",
   "execution_count": 11,
   "metadata": {},
   "outputs": [
    {
     "name": "stdout",
     "output_type": "stream",
     "text": [
      "Hello\n",
      "HELLO\n",
      "  hello\n",
      " hello \n",
      "he(ell)(ell)o\n",
      "world\n"
     ]
    }
   ],
   "source": [
    "s = \"hello\"\n",
    "print (s.capitalize())  # Capitalize a string; prints \"Hello\"\n",
    "print (s.upper())       # Convert a string to uppercase; prints \"HELLO\"\n",
    "print (s.rjust(7))      # Right-justify a string, padding with spaces; prints \"  hello\"\n",
    "print (s.center(7))     # Center a string, padding with spaces; prints \" hello \"\n",
    "print (s.replace('l', '(ell)'))  # Replace all instances of one substring with another;\n",
    "                               # prints \"he(ell)(ell)o\"\n",
    "print ('world'.strip())  # Strip leading and trailing whitespace; prints \"world\""
   ]
  },
  {
   "cell_type": "markdown",
   "metadata": {},
   "source": [
    "You can find a list of all string methods in the [documentation](https://docs.python.org/2/library/stdtypes.html#string-methods)."
   ]
  },
  {
   "cell_type": "markdown",
   "metadata": {},
   "source": [
    "### Containers"
   ]
  },
  {
   "cell_type": "markdown",
   "metadata": {},
   "source": [
    "Python includes several built-in container types: lists, dictionaries, sets, and tuples."
   ]
  },
  {
   "cell_type": "markdown",
   "metadata": {},
   "source": [
    "#### Lists"
   ]
  },
  {
   "cell_type": "markdown",
   "metadata": {},
   "source": [
    "A list is the Python equivalent of an array, but is resizeable and can contain elements of different types:"
   ]
  },
  {
   "cell_type": "code",
   "execution_count": 12,
   "metadata": {},
   "outputs": [
    {
     "name": "stdout",
     "output_type": "stream",
     "text": [
      "[3, 1, 2] 2\n",
      "2\n"
     ]
    }
   ],
   "source": [
    "xs = [3, 1, 2]   # Create a list\n",
    "print (xs, xs[2])\n",
    "print (xs[-1])     # Negative indices count from the end of the list; prints \"2\""
   ]
  },
  {
   "cell_type": "code",
   "execution_count": 13,
   "metadata": {},
   "outputs": [
    {
     "name": "stdout",
     "output_type": "stream",
     "text": [
      "[3, 1, 'foo']\n"
     ]
    }
   ],
   "source": [
    "xs[2] = 'foo'    # Lists can contain elements of different types\n",
    "print (xs)"
   ]
  },
  {
   "cell_type": "code",
   "execution_count": 14,
   "metadata": {},
   "outputs": [
    {
     "name": "stdout",
     "output_type": "stream",
     "text": [
      "[3, 1, 'foo', 'bar']\n"
     ]
    }
   ],
   "source": [
    "xs.append('bar') # Add a new element to the end of the list\n",
    "print (xs)  "
   ]
  },
  {
   "cell_type": "code",
   "execution_count": 15,
   "metadata": {},
   "outputs": [
    {
     "name": "stdout",
     "output_type": "stream",
     "text": [
      "bar [3, 1, 'foo']\n"
     ]
    }
   ],
   "source": [
    "x = xs.pop()     # Remove and return the last element of the list\n",
    "print (x, xs )"
   ]
  },
  {
   "cell_type": "markdown",
   "metadata": {},
   "source": [
    "As usual, you can find all the gory details about lists in the [documentation](https://docs.python.org/2/tutorial/datastructures.html#more-on-lists)."
   ]
  },
  {
   "cell_type": "markdown",
   "metadata": {},
   "source": [
    "#### Slicing"
   ]
  },
  {
   "cell_type": "markdown",
   "metadata": {},
   "source": [
    "In addition to accessing list elements one at a time, Python provides concise syntax to access sublists; this is known as slicing:"
   ]
  },
  {
   "cell_type": "code",
   "execution_count": 16,
   "metadata": {},
   "outputs": [
    {
     "name": "stdout",
     "output_type": "stream",
     "text": [
      "[0, 1, 2, 3, 4]\n",
      "[2, 3]\n",
      "[2, 3, 4]\n",
      "[0, 1]\n",
      "[0, 1, 2, 3, 4]\n",
      "[0, 1, 2, 3]\n",
      "[0, 1, 8, 9, 4]\n"
     ]
    }
   ],
   "source": [
    "nums = list(range(5))    # range is a built-in function that creates a list of integers\n",
    "print (nums)         # Prints \"[0, 1, 2, 3, 4]\"\n",
    "print (nums[2:4])    # Get a slice from index 2 to 4 (exclusive); prints \"[2, 3]\"\n",
    "print (nums[2:])     # Get a slice from index 2 to the end; prints \"[2, 3, 4]\"\n",
    "print (nums[:2])     # Get a slice from the start to index 2 (exclusive); prints \"[0, 1]\"\n",
    "print (nums[:])      # Get a slice of the whole list; prints [\"0, 1, 2, 3, 4]\"\n",
    "print (nums[:-1])    # Slice indices can be negative; prints [\"0, 1, 2, 3]\"\n",
    "nums[2:4] = [8, 9] # Assign a new sublist to a slice\n",
    "print (nums)         # Prints \"[0, 1, 8, 9, 4]\""
   ]
  },
  {
   "cell_type": "markdown",
   "metadata": {},
   "source": [
    "#### Loops"
   ]
  },
  {
   "cell_type": "markdown",
   "metadata": {},
   "source": [
    "You can loop over the elements of a list like this:"
   ]
  },
  {
   "cell_type": "code",
   "execution_count": 17,
   "metadata": {},
   "outputs": [
    {
     "name": "stdout",
     "output_type": "stream",
     "text": [
      "cat\n",
      "dog\n",
      "monkey\n"
     ]
    }
   ],
   "source": [
    "animals = ['cat', 'dog', 'monkey']\n",
    "for animal in animals:\n",
    "    print (animal)"
   ]
  },
  {
   "cell_type": "markdown",
   "metadata": {},
   "source": [
    "If you want access to the index of each element within the body of a loop, use the built-in `enumerate` function:"
   ]
  },
  {
   "cell_type": "code",
   "execution_count": 18,
   "metadata": {},
   "outputs": [
    {
     "name": "stdout",
     "output_type": "stream",
     "text": [
      "#1: cat\n",
      "#2: dog\n",
      "#3: monkey\n"
     ]
    }
   ],
   "source": [
    "animals = ['cat', 'dog', 'monkey']\n",
    "for idx, animal in enumerate(animals):\n",
    "    print ('#%d: %s' % (idx + 1, animal))"
   ]
  },
  {
   "cell_type": "markdown",
   "metadata": {},
   "source": [
    "#### List comprehensions:"
   ]
  },
  {
   "cell_type": "markdown",
   "metadata": {},
   "source": [
    "When programming, frequently we want to transform one type of data into another. As a simple example, consider the following code that computes square numbers:"
   ]
  },
  {
   "cell_type": "code",
   "execution_count": 19,
   "metadata": {},
   "outputs": [
    {
     "name": "stdout",
     "output_type": "stream",
     "text": [
      "[0, 1, 4, 9, 16]\n"
     ]
    }
   ],
   "source": [
    "nums = [0, 1, 2, 3, 4]\n",
    "squares = []\n",
    "for x in nums:\n",
    "    squares.append(x ** 2)\n",
    "print (squares)"
   ]
  },
  {
   "cell_type": "markdown",
   "metadata": {},
   "source": [
    "You can make this code simpler using a list comprehension:"
   ]
  },
  {
   "cell_type": "code",
   "execution_count": 20,
   "metadata": {},
   "outputs": [
    {
     "name": "stdout",
     "output_type": "stream",
     "text": [
      "[0, 1, 4, 9, 16]\n"
     ]
    }
   ],
   "source": [
    "nums = [0, 1, 2, 3, 4]\n",
    "squares = [x ** 2 for x in nums]\n",
    "print (squares)"
   ]
  },
  {
   "cell_type": "markdown",
   "metadata": {},
   "source": [
    "List comprehensions can also contain conditions:"
   ]
  },
  {
   "cell_type": "code",
   "execution_count": 21,
   "metadata": {},
   "outputs": [
    {
     "name": "stdout",
     "output_type": "stream",
     "text": [
      "[0, 4, 16]\n"
     ]
    }
   ],
   "source": [
    "nums = [0, 1, 2, 3, 4]\n",
    "even_squares = [x ** 2 for x in nums if x % 2 == 0]\n",
    "print (even_squares)"
   ]
  },
  {
   "cell_type": "markdown",
   "metadata": {},
   "source": [
    "#### Dictionaries"
   ]
  },
  {
   "cell_type": "markdown",
   "metadata": {},
   "source": [
    "A dictionary stores (key, value) pairs, similar to a `Map` in Java or an object in Javascript. You can use it like this:"
   ]
  },
  {
   "cell_type": "code",
   "execution_count": 22,
   "metadata": {},
   "outputs": [
    {
     "name": "stdout",
     "output_type": "stream",
     "text": [
      "cute\n",
      "True\n"
     ]
    }
   ],
   "source": [
    "d = {'cat': 'cute', 'dog': 'furry'}  # Create a new dictionary with some data\n",
    "print (d['cat'])       # Get an entry from a dictionary; prints \"cute\"\n",
    "print ('cat' in d)     # Check if a dictionary has a given key; prints \"True\""
   ]
  },
  {
   "cell_type": "code",
   "execution_count": 23,
   "metadata": {},
   "outputs": [
    {
     "name": "stdout",
     "output_type": "stream",
     "text": [
      "wet\n"
     ]
    }
   ],
   "source": [
    "d['fish'] = 'wet'    # Set an entry in a dictionary\n",
    "print (d['fish'])      # Prints \"wet\""
   ]
  },
  {
   "cell_type": "code",
   "execution_count": 24,
   "metadata": {},
   "outputs": [
    {
     "ename": "KeyError",
     "evalue": "'monkey'",
     "output_type": "error",
     "traceback": [
      "\u001b[1;31m---------------------------------------------------------------------------\u001b[0m",
      "\u001b[1;31mKeyError\u001b[0m                                  Traceback (most recent call last)",
      "\u001b[1;32mC:\\Users\\DANIEL~1\\AppData\\Local\\Temp/ipykernel_33872/1549722801.py\u001b[0m in \u001b[0;36m<module>\u001b[1;34m\u001b[0m\n\u001b[1;32m----> 1\u001b[1;33m \u001b[0mprint\u001b[0m \u001b[1;33m(\u001b[0m\u001b[0md\u001b[0m\u001b[1;33m[\u001b[0m\u001b[1;34m'monkey'\u001b[0m\u001b[1;33m]\u001b[0m\u001b[1;33m)\u001b[0m  \u001b[1;31m# KeyError: 'monkey' not a key of d\u001b[0m\u001b[1;33m\u001b[0m\u001b[1;33m\u001b[0m\u001b[0m\n\u001b[0m",
      "\u001b[1;31mKeyError\u001b[0m: 'monkey'"
     ]
    }
   ],
   "source": [
    "print (d['monkey'])  # KeyError: 'monkey' not a key of d"
   ]
  },
  {
   "cell_type": "code",
   "execution_count": 25,
   "metadata": {},
   "outputs": [
    {
     "name": "stdout",
     "output_type": "stream",
     "text": [
      "N/A\n",
      "wet\n"
     ]
    }
   ],
   "source": [
    "print (d.get('monkey', 'N/A'))  # Get an element with a default; prints \"N/A\"\n",
    "print (d.get('fish', 'N/A'))    # Get an element with a default; prints \"wet\""
   ]
  },
  {
   "cell_type": "code",
   "execution_count": 26,
   "metadata": {},
   "outputs": [
    {
     "name": "stdout",
     "output_type": "stream",
     "text": [
      "N/A\n"
     ]
    }
   ],
   "source": [
    "del d['fish']        # Remove an element from a dictionary\n",
    "print (d.get('fish', 'N/A')) # \"fish\" is no longer a key; prints \"N/A\""
   ]
  },
  {
   "cell_type": "markdown",
   "metadata": {},
   "source": [
    "You can find all you need to know about dictionaries in the [documentation](https://docs.python.org/2/library/stdtypes.html#dict)."
   ]
  },
  {
   "cell_type": "markdown",
   "metadata": {},
   "source": [
    "It is easy to iterate over the keys in a dictionary:"
   ]
  },
  {
   "cell_type": "code",
   "execution_count": 27,
   "metadata": {},
   "outputs": [
    {
     "name": "stdout",
     "output_type": "stream",
     "text": [
      "A person has 2 legs\n",
      "A cat has 4 legs\n",
      "A spider has 8 legs\n"
     ]
    }
   ],
   "source": [
    "d = {'person': 2, 'cat': 4, 'spider': 8}\n",
    "for animal in d:\n",
    "    legs = d[animal]\n",
    "    print ('A %s has %d legs' % (animal, legs))"
   ]
  },
  {
   "cell_type": "markdown",
   "metadata": {},
   "source": [
    "Dictionary comprehensions: These are similar to list comprehensions, but allow you to easily construct dictionaries. For example:"
   ]
  },
  {
   "cell_type": "code",
   "execution_count": 28,
   "metadata": {},
   "outputs": [
    {
     "name": "stdout",
     "output_type": "stream",
     "text": [
      "{0: 0, 2: 4, 4: 16}\n"
     ]
    }
   ],
   "source": [
    "nums = [0, 1, 2, 3, 4]\n",
    "even_num_to_square = {x: x ** 2 for x in nums if x % 2 == 0}\n",
    "print (even_num_to_square)"
   ]
  },
  {
   "cell_type": "markdown",
   "metadata": {},
   "source": [
    "#### Sets"
   ]
  },
  {
   "cell_type": "markdown",
   "metadata": {},
   "source": [
    "A set is an unordered collection of distinct elements. As a simple example, consider the following:"
   ]
  },
  {
   "cell_type": "code",
   "execution_count": 29,
   "metadata": {},
   "outputs": [
    {
     "name": "stdout",
     "output_type": "stream",
     "text": [
      "True\n",
      "False\n"
     ]
    }
   ],
   "source": [
    "animals = {'cat', 'dog'}\n",
    "print ('cat' in animals)   # Check if an element is in a set; prints \"True\"\n",
    "print ('fish' in animals)  # prints \"False\"\n"
   ]
  },
  {
   "cell_type": "code",
   "execution_count": 30,
   "metadata": {},
   "outputs": [
    {
     "name": "stdout",
     "output_type": "stream",
     "text": [
      "True\n",
      "3\n"
     ]
    }
   ],
   "source": [
    "animals.add('fish')      # Add an element to a set\n",
    "print ('fish' in animals)\n",
    "print (len(animals))       # Number of elements in a set;"
   ]
  },
  {
   "cell_type": "code",
   "execution_count": 31,
   "metadata": {},
   "outputs": [
    {
     "name": "stdout",
     "output_type": "stream",
     "text": [
      "3\n",
      "2\n"
     ]
    }
   ],
   "source": [
    "animals.add('cat')       # Adding an element that is already in the set does nothing\n",
    "print (len(animals))       \n",
    "animals.remove('cat')    # Remove an element from a set\n",
    "print (len(animals))       "
   ]
  },
  {
   "cell_type": "markdown",
   "metadata": {},
   "source": [
    "_Loops_: Iterating over a set has the same syntax as iterating over a list; however since sets are unordered, you cannot make assumptions about the order in which you visit the elements of the set:"
   ]
  },
  {
   "cell_type": "code",
   "execution_count": 32,
   "metadata": {},
   "outputs": [
    {
     "name": "stdout",
     "output_type": "stream",
     "text": [
      "#1: dog\n",
      "#2: cat\n",
      "#3: fish\n"
     ]
    }
   ],
   "source": [
    "animals = {'cat', 'dog', 'fish'}\n",
    "for idx, animal in enumerate(animals):\n",
    "    print ('#%d: %s' % (idx + 1, animal))\n",
    "# Prints \"#1: fish\", \"#2: dog\", \"#3: cat\""
   ]
  },
  {
   "cell_type": "markdown",
   "metadata": {},
   "source": [
    "Set comprehensions: Like lists and dictionaries, we can easily construct sets using set comprehensions:"
   ]
  },
  {
   "cell_type": "code",
   "execution_count": 33,
   "metadata": {},
   "outputs": [
    {
     "name": "stdout",
     "output_type": "stream",
     "text": [
      "{0, 1, 2, 3, 4, 5}\n"
     ]
    }
   ],
   "source": [
    "from math import sqrt\n",
    "print ({int(sqrt(x)) for x in range(30)})"
   ]
  },
  {
   "cell_type": "markdown",
   "metadata": {},
   "source": [
    "#### Tuples"
   ]
  },
  {
   "cell_type": "markdown",
   "metadata": {},
   "source": [
    "A tuple is an (immutable) ordered list of values. A tuple is in many ways similar to a list; one of the most important differences is that tuples can be used as keys in dictionaries and as elements of sets, while lists cannot. Here is a trivial example:"
   ]
  },
  {
   "cell_type": "code",
   "execution_count": 34,
   "metadata": {},
   "outputs": [
    {
     "name": "stdout",
     "output_type": "stream",
     "text": [
      "<class 'tuple'>\n",
      "{(0, 1): 0, (1, 2): 1, (2, 3): 2, (3, 4): 3, (4, 5): 4, (5, 6): 5, (6, 7): 6, (7, 8): 7, (8, 9): 8, (9, 10): 9}\n",
      "5\n",
      "1\n"
     ]
    }
   ],
   "source": [
    "d = {(x, x + 1): x for x in range(10)}  # Create a dictionary with tuple keys\n",
    "t = (5, 6)       # Create a tuple\n",
    "print (type(t))\n",
    "print(d)\n",
    "print (d[t])\n",
    "print (d[(1, 2)])"
   ]
  },
  {
   "cell_type": "markdown",
   "metadata": {},
   "source": [
    "### Functions"
   ]
  },
  {
   "cell_type": "markdown",
   "metadata": {},
   "source": [
    "Python functions are defined using the `def` keyword. For example:"
   ]
  },
  {
   "cell_type": "code",
   "execution_count": 35,
   "metadata": {},
   "outputs": [
    {
     "name": "stdout",
     "output_type": "stream",
     "text": [
      "negative\n",
      "zero\n",
      "positive\n"
     ]
    }
   ],
   "source": [
    "def sign(x):\n",
    "    if x > 0:\n",
    "        return 'positive'\n",
    "    elif x < 0:\n",
    "        return 'negative'\n",
    "    else:\n",
    "        return 'zero'\n",
    "\n",
    "for x in [-1, 0, 1]:\n",
    "    print (sign(x))"
   ]
  },
  {
   "cell_type": "markdown",
   "metadata": {},
   "source": [
    "We will often define functions to take optional keyword arguments, like this:"
   ]
  },
  {
   "cell_type": "code",
   "execution_count": 36,
   "metadata": {},
   "outputs": [
    {
     "name": "stdout",
     "output_type": "stream",
     "text": [
      "Hello, Bob!\n",
      "HELLO, FRED\n"
     ]
    }
   ],
   "source": [
    "def hello(name, loud=False):\n",
    "    if loud:\n",
    "        print ('HELLO, %s' % name.upper())\n",
    "    else:\n",
    "        print ('Hello, %s!' % name)\n",
    "\n",
    "hello('Bob')\n",
    "hello('Fred', loud=True)"
   ]
  },
  {
   "cell_type": "markdown",
   "metadata": {},
   "source": [
    "### Classes"
   ]
  },
  {
   "cell_type": "markdown",
   "metadata": {},
   "source": [
    "The syntax for defining classes in Python is straightforward:"
   ]
  },
  {
   "cell_type": "code",
   "execution_count": 37,
   "metadata": {},
   "outputs": [
    {
     "name": "stdout",
     "output_type": "stream",
     "text": [
      "Hello, Fred\n",
      "HELLO, FRED!\n"
     ]
    }
   ],
   "source": [
    "class Greeter:\n",
    "\n",
    "    # Constructor\n",
    "    def __init__(self, name):\n",
    "        self.name = name  # Create an instance variable\n",
    "\n",
    "    # Instance method\n",
    "    def greet(self, loud=False):\n",
    "        if loud:\n",
    "            print ('HELLO, %s!' % self.name.upper())\n",
    "        else:\n",
    "            print ('Hello, %s' % self.name)\n",
    "\n",
    "g = Greeter('Fred')  # Construct an instance of the Greeter class\n",
    "g.greet()            # Call an instance method; prints \"Hello, Fred\"\n",
    "g.greet(loud=True)   # Call an instance method; prints \"HELLO, FRED!\""
   ]
  },
  {
   "cell_type": "markdown",
   "metadata": {},
   "source": [
    "## Numpy"
   ]
  },
  {
   "cell_type": "markdown",
   "metadata": {},
   "source": [
    "Numpy is the core library for scientific computing in Python. It provides a high-performance multidimensional array object, and tools for working with these arrays. "
   ]
  },
  {
   "cell_type": "markdown",
   "metadata": {},
   "source": [
    "To use Numpy, we first need to import the `numpy` package:"
   ]
  },
  {
   "cell_type": "code",
   "execution_count": 38,
   "metadata": {},
   "outputs": [],
   "source": [
    "import numpy as np"
   ]
  },
  {
   "cell_type": "markdown",
   "metadata": {},
   "source": [
    "### Arrays"
   ]
  },
  {
   "cell_type": "markdown",
   "metadata": {},
   "source": [
    "A numpy array is a grid of values, all of the same type, and is indexed by a tuple of nonnegative integers. The number of dimensions is the rank of the array; the shape of an array is a tuple of integers giving the size of the array along each dimension."
   ]
  },
  {
   "cell_type": "markdown",
   "metadata": {},
   "source": [
    "We can initialize numpy arrays from nested Python lists, and access elements using square brackets:"
   ]
  },
  {
   "cell_type": "code",
   "execution_count": 39,
   "metadata": {},
   "outputs": [
    {
     "name": "stdout",
     "output_type": "stream",
     "text": [
      "<class 'numpy.ndarray'> (3,) 1 2 3\n",
      "[5 2 3]\n"
     ]
    }
   ],
   "source": [
    "a = np.array([1, 2, 3])  # Create a rank 1 array\n",
    "print (type(a), a.shape, a[0], a[1], a[2])\n",
    "a[0] = 5                 # Change an element of the array\n",
    "print (a)"
   ]
  },
  {
   "cell_type": "code",
   "execution_count": 41,
   "metadata": {},
   "outputs": [
    {
     "name": "stdout",
     "output_type": "stream",
     "text": [
      "[[1 2 3]\n",
      " [4 5 6]]\n"
     ]
    }
   ],
   "source": [
    "b = np.array([[1,2,3],[4,5,6]])   # Create a rank 2 array\n",
    "print (b)"
   ]
  },
  {
   "cell_type": "code",
   "execution_count": 42,
   "metadata": {},
   "outputs": [
    {
     "name": "stdout",
     "output_type": "stream",
     "text": [
      "(2, 3)\n",
      "1 2 4\n"
     ]
    }
   ],
   "source": [
    "print (b.shape)                   \n",
    "print (b[0, 0], b[0, 1], b[1, 0])"
   ]
  },
  {
   "cell_type": "markdown",
   "metadata": {},
   "source": [
    "Numpy also provides many functions to create arrays:"
   ]
  },
  {
   "cell_type": "code",
   "execution_count": 43,
   "metadata": {},
   "outputs": [
    {
     "name": "stdout",
     "output_type": "stream",
     "text": [
      "[[0. 0.]\n",
      " [0. 0.]]\n"
     ]
    }
   ],
   "source": [
    "a = np.zeros((2,2))  # Create an array of all zeros\n",
    "print (a)"
   ]
  },
  {
   "cell_type": "code",
   "execution_count": 44,
   "metadata": {},
   "outputs": [
    {
     "name": "stdout",
     "output_type": "stream",
     "text": [
      "[[1. 1.]]\n"
     ]
    }
   ],
   "source": [
    "b = np.ones((1,2))   # Create an array of all ones\n",
    "print (b)"
   ]
  },
  {
   "cell_type": "code",
   "execution_count": 45,
   "metadata": {},
   "outputs": [
    {
     "name": "stdout",
     "output_type": "stream",
     "text": [
      "[[7 7]\n",
      " [7 7]]\n"
     ]
    }
   ],
   "source": [
    "c = np.full((2,2), 7) # Create a constant array\n",
    "print (c) "
   ]
  },
  {
   "cell_type": "code",
   "execution_count": 46,
   "metadata": {},
   "outputs": [
    {
     "name": "stdout",
     "output_type": "stream",
     "text": [
      "[[1. 0.]\n",
      " [0. 1.]]\n"
     ]
    }
   ],
   "source": [
    "d = np.eye(2)        # Create a 2x2 identity matrix\n",
    "print (d)"
   ]
  },
  {
   "cell_type": "code",
   "execution_count": 47,
   "metadata": {},
   "outputs": [
    {
     "name": "stdout",
     "output_type": "stream",
     "text": [
      "[[0.02258079 0.02195529]\n",
      " [0.83790778 0.64475421]]\n"
     ]
    }
   ],
   "source": [
    "e = np.random.random((2,2)) # Create an array filled with random values\n",
    "print (e)"
   ]
  },
  {
   "cell_type": "markdown",
   "metadata": {},
   "source": [
    "### Array indexing"
   ]
  },
  {
   "cell_type": "markdown",
   "metadata": {},
   "source": [
    "Numpy offers several ways to index into arrays."
   ]
  },
  {
   "cell_type": "markdown",
   "metadata": {},
   "source": [
    "Slicing: Similar to Python lists, numpy arrays can be sliced. Since arrays may be multidimensional, you must specify a slice for each dimension of the array:"
   ]
  },
  {
   "cell_type": "code",
   "execution_count": 48,
   "metadata": {},
   "outputs": [
    {
     "name": "stdout",
     "output_type": "stream",
     "text": [
      "[[2 3]\n",
      " [6 7]]\n"
     ]
    }
   ],
   "source": [
    "import numpy as np\n",
    "\n",
    "# Create the following rank 2 array with shape (3, 4)\n",
    "# [[ 1  2  3  4]\n",
    "#  [ 5  6  7  8]\n",
    "#  [ 9 10 11 12]]\n",
    "a = np.array([[1,2,3,4], [5,6,7,8], [9,10,11,12]])\n",
    "\n",
    "# Use slicing to pull out the subarray consisting of the first 2 rows\n",
    "# and columns 1 and 2; b is the following array of shape (2, 2):\n",
    "# [[2 3]\n",
    "#  [6 7]]\n",
    "b = a[:2, 1:3]\n",
    "print (b)"
   ]
  },
  {
   "cell_type": "markdown",
   "metadata": {},
   "source": [
    "A slice of an array is a reference to the original data, so modifying it will modify the original array."
   ]
  },
  {
   "cell_type": "code",
   "execution_count": 49,
   "metadata": {},
   "outputs": [
    {
     "name": "stdout",
     "output_type": "stream",
     "text": [
      "2\n",
      "77\n"
     ]
    }
   ],
   "source": [
    "print (a[0, 1])  \n",
    "b[0, 0] = 77    # b[0, 0] is the same piece of data as a[0, 1]\n",
    "print (a[0, 1])"
   ]
  },
  {
   "cell_type": "markdown",
   "metadata": {},
   "source": [
    "You can also mix integer indexing with slice indexing. However, doing so will yield an array of lower rank than the original array. Note that this is quite different from the way that MATLAB handles array slicing:"
   ]
  },
  {
   "cell_type": "code",
   "execution_count": 149,
   "metadata": {},
   "outputs": [
    {
     "name": "stdout",
     "output_type": "stream",
     "text": [
      "[[ 1  2  3  4]\n",
      " [ 5  6  7  8]\n",
      " [ 9 10 11 12]]\n"
     ]
    }
   ],
   "source": [
    "# Create the following rank 2 array with shape (3, 4)\n",
    "a = np.array([[1,2,3,4], [5,6,7,8], [9,10,11,12]])\n",
    "print (a)"
   ]
  },
  {
   "cell_type": "markdown",
   "metadata": {},
   "source": [
    "There are two ways of accessing the data in the middle row of the array.\n",
    "Mixing integer indexing with slices yields an array of lower rank,\n",
    "while using only slices yields an array of the same rank as the\n",
    "original array:"
   ]
  },
  {
   "cell_type": "code",
   "execution_count": 50,
   "metadata": {},
   "outputs": [
    {
     "name": "stdout",
     "output_type": "stream",
     "text": [
      "[5 6 7 8] (4,)\n",
      "[[5 6 7 8]] (1, 4)\n",
      "[[5 6 7 8]] (1, 4)\n"
     ]
    }
   ],
   "source": [
    "row_r1 = a[1, :]    # Rank 1 view of the second row of a  \n",
    "row_r2 = a[1:2, :]  # Rank 2 view of the second row of a\n",
    "row_r3 = a[[1], :]  # Rank 2 view of the second row of a\n",
    "print (row_r1, row_r1.shape)\n",
    "print (row_r2, row_r2.shape)\n",
    "print (row_r3, row_r3.shape)"
   ]
  },
  {
   "cell_type": "code",
   "execution_count": 51,
   "metadata": {},
   "outputs": [
    {
     "name": "stdout",
     "output_type": "stream",
     "text": [
      "[77  6 10] (3,)\n",
      "[[77]\n",
      " [ 6]\n",
      " [10]] (3, 1)\n"
     ]
    }
   ],
   "source": [
    "# We can make the same distinction when accessing columns of an array:\n",
    "col_r1 = a[:, 1]\n",
    "col_r2 = a[:, 1:2]\n",
    "print (col_r1, col_r1.shape)\n",
    "print\n",
    "print (col_r2, col_r2.shape)"
   ]
  },
  {
   "cell_type": "markdown",
   "metadata": {},
   "source": [
    "Integer array indexing: When you index into numpy arrays using slicing, the resulting array view will always be a subarray of the original array. In contrast, integer array indexing allows you to construct arbitrary arrays using the data from another array. Here is an example:"
   ]
  },
  {
   "cell_type": "code",
   "execution_count": 54,
   "metadata": {},
   "outputs": [
    {
     "name": "stdout",
     "output_type": "stream",
     "text": [
      "[1 4 5]\n",
      "[1 4 5]\n"
     ]
    }
   ],
   "source": [
    "a = np.array([[1,2], [3, 4], [5, 6]])\n",
    "# An example of integer array indexing.\n",
    "# The returned array will have shape (3,) and \n",
    "print (a[[0, 1, 2], [0, 1, 0]])\n",
    "\n",
    "# The above example of integer array indexing is equivalent to this:\n",
    "print (np.array([a[0, 0], a[1, 1], a[2, 0]]))"
   ]
  },
  {
   "cell_type": "code",
   "execution_count": 153,
   "metadata": {},
   "outputs": [
    {
     "name": "stdout",
     "output_type": "stream",
     "text": [
      "[2 2]\n",
      "[2 2]\n"
     ]
    }
   ],
   "source": [
    "# When using integer array indexing, you can reuse the same\n",
    "# element from the source array:\n",
    "print (a[[0, 0], [1, 1]])\n",
    "\n",
    "# Equivalent to the previous integer array indexing example\n",
    "print (np.array([a[0, 1], a[0, 1]]))"
   ]
  },
  {
   "cell_type": "markdown",
   "metadata": {},
   "source": [
    "One useful trick with integer array indexing is selecting or mutating one element from each row of a matrix:"
   ]
  },
  {
   "cell_type": "code",
   "execution_count": 154,
   "metadata": {},
   "outputs": [
    {
     "name": "stdout",
     "output_type": "stream",
     "text": [
      "[[ 1  2  3]\n",
      " [ 4  5  6]\n",
      " [ 7  8  9]\n",
      " [10 11 12]]\n"
     ]
    }
   ],
   "source": [
    "# Create a new array from which we will select elements\n",
    "a = np.array([[1,2,3], [4,5,6], [7,8,9], [10, 11, 12]])\n",
    "print (a)"
   ]
  },
  {
   "cell_type": "code",
   "execution_count": 155,
   "metadata": {},
   "outputs": [
    {
     "name": "stdout",
     "output_type": "stream",
     "text": [
      "[ 1  6  7 11]\n"
     ]
    }
   ],
   "source": [
    "# Create an array of indices\n",
    "b = np.array([0, 2, 0, 1])\n",
    "\n",
    "# Select one element from each row of a using the indices in b\n",
    "print (a[np.arange(4), b])  # Prints \"[ 1  6  7 11]\""
   ]
  },
  {
   "cell_type": "code",
   "execution_count": 156,
   "metadata": {},
   "outputs": [
    {
     "name": "stdout",
     "output_type": "stream",
     "text": [
      "[[11  2  3]\n",
      " [ 4  5 16]\n",
      " [17  8  9]\n",
      " [10 21 12]]\n"
     ]
    }
   ],
   "source": [
    "# Mutate one element from each row of a using the indices in b\n",
    "a[np.arange(4), b] += 10\n",
    "print (a)"
   ]
  },
  {
   "cell_type": "markdown",
   "metadata": {},
   "source": [
    "Boolean array indexing: Boolean array indexing lets you pick out arbitrary elements of an array. Frequently this type of indexing is used to select the elements of an array that satisfy some condition. Here is an example:"
   ]
  },
  {
   "cell_type": "code",
   "execution_count": 2,
   "metadata": {},
   "outputs": [
    {
     "name": "stdout",
     "output_type": "stream",
     "text": [
      "[[False False]\n",
      " [ True  True]\n",
      " [ True  True]]\n"
     ]
    }
   ],
   "source": [
    "import numpy as np\n",
    "\n",
    "a = np.array([[1,2], [3, 4], [5, 6]])\n",
    "\n",
    "bool_idx = (a > 2)  # Find the elements of a that are bigger than 2;\n",
    "                    # this returns a numpy array of Booleans of the same\n",
    "                    # shape as a, where each slot of bool_idx tells\n",
    "                    # whether that element of a is > 2.\n",
    "\n",
    "print (bool_idx)"
   ]
  },
  {
   "cell_type": "code",
   "execution_count": 158,
   "metadata": {},
   "outputs": [
    {
     "name": "stdout",
     "output_type": "stream",
     "text": [
      "[3 4 5 6]\n",
      "[3 4 5 6]\n"
     ]
    }
   ],
   "source": [
    "# We use boolean array indexing to construct a rank 1 array\n",
    "# consisting of the elements of a corresponding to the True values\n",
    "# of bool_idx\n",
    "print (a[bool_idx])\n",
    "\n",
    "# We can do all of the above in a single concise statement:\n",
    "print (a[a > 2])"
   ]
  },
  {
   "cell_type": "markdown",
   "metadata": {},
   "source": [
    "For brevity we have left out a lot of details about numpy array indexing; if you want to know more you should read the documentation."
   ]
  },
  {
   "cell_type": "markdown",
   "metadata": {},
   "source": [
    "### Datatypes"
   ]
  },
  {
   "cell_type": "markdown",
   "metadata": {},
   "source": [
    "Every numpy array is a grid of elements of the same type. Numpy provides a large set of numeric datatypes that you can use to construct arrays. Numpy tries to guess a datatype when you create an array, but functions that construct arrays usually also include an optional argument to explicitly specify the datatype. Here is an example:"
   ]
  },
  {
   "cell_type": "code",
   "execution_count": 159,
   "metadata": {},
   "outputs": [
    {
     "name": "stdout",
     "output_type": "stream",
     "text": [
      "int64 float64 int64\n"
     ]
    }
   ],
   "source": [
    "x = np.array([1, 2])  # Let numpy choose the datatype\n",
    "y = np.array([1.0, 2.0])  # Let numpy choose the datatype\n",
    "z = np.array([1, 2], dtype=np.int64)  # Force a particular datatype\n",
    "\n",
    "print (x.dtype, y.dtype, z.dtype)"
   ]
  },
  {
   "cell_type": "markdown",
   "metadata": {},
   "source": [
    "You can read all about numpy datatypes in the [documentation](http://docs.scipy.org/doc/numpy/reference/arrays.dtypes.html)."
   ]
  },
  {
   "cell_type": "markdown",
   "metadata": {},
   "source": [
    "### Array math"
   ]
  },
  {
   "cell_type": "markdown",
   "metadata": {},
   "source": [
    "Basic mathematical functions operate elementwise on arrays, and are available both as operator overloads and as functions in the numpy module:"
   ]
  },
  {
   "cell_type": "code",
   "execution_count": 5,
   "metadata": {},
   "outputs": [
    {
     "name": "stdout",
     "output_type": "stream",
     "text": [
      "[[ 6.  8.]\n",
      " [10. 12.]]\n",
      "[[ 6.  8.]\n",
      " [10. 12.]]\n"
     ]
    }
   ],
   "source": [
    "x = np.array([[1,2],[3,4]], dtype=np.float64)\n",
    "y = np.array([[5,6],[7,8]], dtype=np.float64)\n",
    "\n",
    "# Elementwise sum; both produce the array\n",
    "print (x + y)\n",
    "print (np.add(x, y))"
   ]
  },
  {
   "cell_type": "code",
   "execution_count": 6,
   "metadata": {},
   "outputs": [
    {
     "name": "stdout",
     "output_type": "stream",
     "text": [
      "[[-4. -4.]\n",
      " [-4. -4.]]\n",
      "[[-4. -4.]\n",
      " [-4. -4.]]\n"
     ]
    }
   ],
   "source": [
    "# Elementwise difference; both produce the array\n",
    "print (x - y)\n",
    "print (np.subtract(x, y))"
   ]
  },
  {
   "cell_type": "code",
   "execution_count": 7,
   "metadata": {},
   "outputs": [
    {
     "name": "stdout",
     "output_type": "stream",
     "text": [
      "[[ 5. 12.]\n",
      " [21. 32.]]\n",
      "[[ 5. 12.]\n",
      " [21. 32.]]\n"
     ]
    }
   ],
   "source": [
    "# Elementwise product; both produce the array\n",
    "print (x * y)\n",
    "print (np.multiply(x, y))"
   ]
  },
  {
   "cell_type": "code",
   "execution_count": 8,
   "metadata": {},
   "outputs": [
    {
     "name": "stdout",
     "output_type": "stream",
     "text": [
      "[[0.2        0.33333333]\n",
      " [0.42857143 0.5       ]]\n",
      "[[0.2        0.33333333]\n",
      " [0.42857143 0.5       ]]\n"
     ]
    }
   ],
   "source": [
    "# Elementwise division; both produce the array\n",
    "# [[ 0.2         0.33333333]\n",
    "#  [ 0.42857143  0.5       ]]\n",
    "print (x / y)\n",
    "print (np.divide(x, y))"
   ]
  },
  {
   "cell_type": "code",
   "execution_count": 9,
   "metadata": {},
   "outputs": [
    {
     "name": "stdout",
     "output_type": "stream",
     "text": [
      "[[1.         1.41421356]\n",
      " [1.73205081 2.        ]]\n"
     ]
    }
   ],
   "source": [
    "# Elementwise square root; produces the array\n",
    "# [[ 1.          1.41421356]\n",
    "#  [ 1.73205081  2.        ]]\n",
    "print (np.sqrt(x))"
   ]
  },
  {
   "cell_type": "markdown",
   "metadata": {},
   "source": [
    "You can use the dot function or @ to compute inner products of vectors. dot is available both as a function in the numpy module and as an instance method of array objects:"
   ]
  },
  {
   "cell_type": "code",
   "execution_count": 55,
   "metadata": {},
   "outputs": [
    {
     "name": "stdout",
     "output_type": "stream",
     "text": [
      "219\n",
      "219\n",
      "219\n"
     ]
    }
   ],
   "source": [
    "v = np.array([9,10])\n",
    "w = np.array([11, 12])\n",
    "\n",
    "print(np.dot(v,w))\n",
    "print(v.dot(w))\n",
    "print(v@w)"
   ]
  },
  {
   "cell_type": "markdown",
   "metadata": {},
   "source": [
    "You can also use the dot function for other operation such as matrix multiplication. You can learn more here [documentation](https://docs.scipy.org/doc/numpy/reference/generated/numpy.dot.html)"
   ]
  },
  {
   "cell_type": "markdown",
   "metadata": {},
   "source": [
    "Note that unlike MATLAB, `*` is elementwise multiplication, not matrix multiplication. We instead use @ or the dot function to muplipy matrices."
   ]
  },
  {
   "cell_type": "code",
   "execution_count": 59,
   "metadata": {},
   "outputs": [
    {
     "name": "stdout",
     "output_type": "stream",
     "text": [
      "[[19 22]\n",
      " [43 50]]\n",
      "[[19 22]\n",
      " [43 50]]\n"
     ]
    }
   ],
   "source": [
    "x = np.array([[1,2],[3,4]])\n",
    "y = np.array([[5,6],[7,8]])\n",
    "\n",
    "v = np.array([9,10])\n",
    "w = np.array([11, 12])\n",
    "\n",
    "# Matrix / matrix product; both produce the rank 2 array\n",
    "print (x@y)\n",
    "print(np.dot(x,y))"
   ]
  },
  {
   "cell_type": "markdown",
   "metadata": {},
   "source": [
    "Numpy provides many useful functions for performing computations on arrays; one of the most useful is `sum`:"
   ]
  },
  {
   "cell_type": "code",
   "execution_count": 168,
   "metadata": {},
   "outputs": [
    {
     "name": "stdout",
     "output_type": "stream",
     "text": [
      "10\n",
      "[4 6]\n",
      "[3 7]\n"
     ]
    }
   ],
   "source": [
    "x = np.array([[1,2],[3,4]])\n",
    "\n",
    "print (np.sum(x))  # Compute sum of all elements; prints \"10\"\n",
    "print (np.sum(x, axis=0))  # Compute sum of each column; prints \"[4 6]\"\n",
    "print (np.sum(x, axis=1))  # Compute sum of each row; prints \"[3 7]\""
   ]
  },
  {
   "cell_type": "markdown",
   "metadata": {},
   "source": [
    "You can find the full list of mathematical functions provided by numpy in the [documentation](http://docs.scipy.org/doc/numpy/reference/routines.math.html).\n",
    "\n",
    "Apart from computing mathematical functions using arrays, we frequently need to reshape or otherwise manipulate data in arrays. The simplest example of this type of operation is transposing a matrix; to transpose a matrix, simply use the T attribute of an array object:"
   ]
  },
  {
   "cell_type": "code",
   "execution_count": 169,
   "metadata": {},
   "outputs": [
    {
     "name": "stdout",
     "output_type": "stream",
     "text": [
      "[[1 2]\n",
      " [3 4]]\n",
      "[[1 3]\n",
      " [2 4]]\n"
     ]
    }
   ],
   "source": [
    "print (x)\n",
    "print (x.T)"
   ]
  },
  {
   "cell_type": "code",
   "execution_count": 170,
   "metadata": {},
   "outputs": [
    {
     "name": "stdout",
     "output_type": "stream",
     "text": [
      "[[1 2 3]]\n",
      "[[1]\n",
      " [2]\n",
      " [3]]\n"
     ]
    }
   ],
   "source": [
    "v = np.array([[1,2,3]])\n",
    "print (v )\n",
    "print (v.T)"
   ]
  },
  {
   "cell_type": "markdown",
   "metadata": {},
   "source": [
    "### Broadcasting"
   ]
  },
  {
   "cell_type": "markdown",
   "metadata": {},
   "source": [
    "Broadcasting is a powerful mechanism that allows numpy to work with arrays of different shapes when performing arithmetic operations. Frequently we have a smaller array and a larger array, and we want to use the smaller array multiple times to perform some operation on the larger array.\n",
    "\n",
    "For example, suppose that we want to add a constant vector to each row of a matrix. We could do it like this:"
   ]
  },
  {
   "cell_type": "code",
   "execution_count": 171,
   "metadata": {},
   "outputs": [
    {
     "name": "stdout",
     "output_type": "stream",
     "text": [
      "[[ 2  2  4]\n",
      " [ 5  5  7]\n",
      " [ 8  8 10]\n",
      " [11 11 13]]\n"
     ]
    }
   ],
   "source": [
    "# We will add the vector v to each row of the matrix x,\n",
    "# storing the result in the matrix y\n",
    "x = np.array([[1,2,3], [4,5,6], [7,8,9], [10, 11, 12]])\n",
    "v = np.array([1, 0, 1])\n",
    "y = np.empty_like(x)   # Create an empty matrix with the same shape as x\n",
    "\n",
    "# Add the vector v to each row of the matrix x with an explicit loop\n",
    "for i in range(4):\n",
    "    y[i, :] = x[i, :] + v\n",
    "\n",
    "print (y)"
   ]
  },
  {
   "cell_type": "markdown",
   "metadata": {},
   "source": [
    "This works; however when the matrix `x` is very large, computing an explicit loop in Python could be slow. Note that adding the vector v to each row of the matrix `x` is equivalent to forming a matrix `vv` by stacking multiple copies of `v` vertically, then performing elementwise summation of `x` and `vv`. We could implement this approach like this:"
   ]
  },
  {
   "cell_type": "code",
   "execution_count": 172,
   "metadata": {},
   "outputs": [
    {
     "name": "stdout",
     "output_type": "stream",
     "text": [
      "[[1 0 1]\n",
      " [1 0 1]\n",
      " [1 0 1]\n",
      " [1 0 1]]\n"
     ]
    }
   ],
   "source": [
    "vv = np.tile(v, (4, 1))  # Stack 4 copies of v on top of each other\n",
    "print (vv)                 # Prints \"[[1 0 1]\n",
    "                         #          [1 0 1]\n",
    "                         #          [1 0 1]\n",
    "                         #          [1 0 1]]\""
   ]
  },
  {
   "cell_type": "code",
   "execution_count": 173,
   "metadata": {},
   "outputs": [
    {
     "name": "stdout",
     "output_type": "stream",
     "text": [
      "[[ 2  2  4]\n",
      " [ 5  5  7]\n",
      " [ 8  8 10]\n",
      " [11 11 13]]\n"
     ]
    }
   ],
   "source": [
    "y = x + vv  # Add x and vv elementwise\n",
    "print (y)"
   ]
  },
  {
   "cell_type": "markdown",
   "metadata": {},
   "source": [
    "Numpy broadcasting allows us to perform this computation without actually creating multiple copies of v. Consider this version, using broadcasting:"
   ]
  },
  {
   "cell_type": "code",
   "execution_count": 191,
   "metadata": {},
   "outputs": [
    {
     "name": "stdout",
     "output_type": "stream",
     "text": [
      "[[ 2  2  4]\n",
      " [ 5  5  7]\n",
      " [ 8  8 10]\n",
      " [11 11 13]]\n"
     ]
    }
   ],
   "source": [
    "import numpy as np\n",
    "\n",
    "# We will add the vector v to each row of the matrix x,\n",
    "# storing the result in the matrix y\n",
    "x = np.array([[1,2,3], [4,5,6], [7,8,9], [10, 11, 12]])\n",
    "v = np.array([1, 0, 1])\n",
    "y = x + v  # Add v to each row of x using broadcasting\n",
    "print (y)"
   ]
  },
  {
   "cell_type": "markdown",
   "metadata": {},
   "source": [
    "The line `y = x + v` works even though `x` has shape `(4, 3)` and `v` has shape `(3,)` due to broadcasting; this line works as if v actually had shape `(4, 3)`, where each row was a copy of `v`, and the sum was performed elementwise.\n",
    "\n",
    "Broadcasting two arrays together follows these rules:\n",
    "\n",
    "1. If the arrays do not have the same rank, prepend the shape of the lower rank array with 1s until both shapes have the same length.\n",
    "2. The two arrays are said to be compatible in a dimension if they have the same size in the dimension, or if one of the arrays has size 1 in that dimension.\n",
    "3. The arrays can be broadcast together if they are compatible in all dimensions.\n",
    "4. After broadcasting, each array behaves as if it had shape equal to the elementwise maximum of shapes of the two input arrays.\n",
    "5. In any dimension where one array had size 1 and the other array had size greater than 1, the first array behaves as if it were copied along that dimension\n",
    "\n",
    "If this explanation does not make sense, try reading the explanation from the [documentation](http://docs.scipy.org/doc/numpy/user/basics.broadcasting.html) or this [explanation](http://wiki.scipy.org/EricsBroadcastingDoc).\n",
    "\n",
    "Here are some application examples of Broadcasting:"
   ]
  },
  {
   "cell_type": "code",
   "execution_count": 192,
   "metadata": {},
   "outputs": [
    {
     "name": "stdout",
     "output_type": "stream",
     "text": [
      "[[2 2 4]\n",
      " [5 5 7]]\n"
     ]
    }
   ],
   "source": [
    "# Add a vector to each row of a matrix\n",
    "x = np.array([[1,2,3], [4,5,6]])\n",
    "# x has shape (2, 3) and v has shape (3,) so they broadcast to (2, 3),\n",
    "# giving the following matrix:\n",
    "\n",
    "print (x + v)"
   ]
  },
  {
   "cell_type": "code",
   "execution_count": 193,
   "metadata": {},
   "outputs": [
    {
     "name": "stdout",
     "output_type": "stream",
     "text": [
      "[[ 5  6  7]\n",
      " [ 9 10 11]]\n"
     ]
    }
   ],
   "source": [
    "# Add a vector to each column of a matrix\n",
    "# x has shape (2, 3) and w has shape (2,).\n",
    "# If we transpose x then it has shape (3, 2) and can be broadcast\n",
    "# against w to yield a result of shape (3, 2); transposing this result\n",
    "# yields the final result of shape (2, 3) which is the matrix x with\n",
    "# the vector w added to each column. Gives the following matrix:\n",
    "\n",
    "print ((x.T + w).T)"
   ]
  },
  {
   "cell_type": "code",
   "execution_count": 194,
   "metadata": {},
   "outputs": [
    {
     "name": "stdout",
     "output_type": "stream",
     "text": [
      "[[ 5  6  7]\n",
      " [ 9 10 11]]\n"
     ]
    }
   ],
   "source": [
    "# Another solution is to reshape w to be a row vector of shape (2, 1);\n",
    "# we can then broadcast it directly against x to produce the same\n",
    "# output.\n",
    "print( x + np.reshape(w, (2, 1)))"
   ]
  },
  {
   "cell_type": "code",
   "execution_count": 195,
   "metadata": {},
   "outputs": [
    {
     "name": "stdout",
     "output_type": "stream",
     "text": [
      "[[ 2  4  6]\n",
      " [ 8 10 12]]\n"
     ]
    }
   ],
   "source": [
    "# Multiply a matrix by a constant:\n",
    "# x has shape (2, 3). Numpy treats scalars as arrays of shape ();\n",
    "# these can be broadcast together to shape (2, 3), producing the\n",
    "# following array:\n",
    "print (x * 2)"
   ]
  },
  {
   "cell_type": "markdown",
   "metadata": {},
   "source": [
    "Broadcasting typically makes your code more concise and faster, so you should strive to use it where possible."
   ]
  },
  {
   "cell_type": "markdown",
   "metadata": {},
   "source": [
    "This brief overview has touched on many of the important things that you need to know about numpy, but is far from complete. Check out the [numpy reference](http://docs.scipy.org/doc/numpy/reference/) to find out much more about numpy."
   ]
  },
  {
   "cell_type": "markdown",
   "metadata": {},
   "source": [
    "## Matplotlib"
   ]
  },
  {
   "cell_type": "markdown",
   "metadata": {},
   "source": [
    "Matplotlib is a plotting library. In this section give a brief introduction to the `matplotlib.pyplot` module, which provides a plotting system similar to that of MATLAB."
   ]
  },
  {
   "cell_type": "code",
   "execution_count": 62,
   "metadata": {},
   "outputs": [],
   "source": [
    "import matplotlib.pyplot as plt"
   ]
  },
  {
   "cell_type": "markdown",
   "metadata": {},
   "source": [
    "By running this special iPython command, we will be displaying plots inline:"
   ]
  },
  {
   "cell_type": "code",
   "execution_count": 63,
   "metadata": {},
   "outputs": [],
   "source": [
    "\n",
    "%matplotlib inline"
   ]
  },
  {
   "cell_type": "markdown",
   "metadata": {},
   "source": [
    "### Plotting"
   ]
  },
  {
   "cell_type": "markdown",
   "metadata": {},
   "source": [
    "The most important function in `matplotlib` is plot, which allows you to plot 2D data. Here is a simple example:"
   ]
  },
  {
   "cell_type": "code",
   "execution_count": 64,
   "metadata": {},
   "outputs": [
    {
     "data": {
      "text/plain": [
       "[<matplotlib.lines.Line2D at 0x189619a1400>]"
      ]
     },
     "execution_count": 64,
     "metadata": {},
     "output_type": "execute_result"
    },
    {
     "data": {
      "image/png": "[encoded data removed]",
      "text/plain": [
       "<Figure size 432x288 with 1 Axes>"
      ]
     },
     "metadata": {
      "needs_background": "light"
     },
     "output_type": "display_data"
    }
   ],
   "source": [
    "# Compute the x and y coordinates for points on a sine curve\n",
    "x = np.arange(0, 3 * np.pi, 0.1)\n",
    "y = np.sin(x)\n",
    "\n",
    "# Plot the points using matplotlib\n",
    "plt.plot(x, y)"
   ]
  },
  {
   "cell_type": "markdown",
   "metadata": {},
   "source": [
    "With just a little bit of extra work we can easily plot multiple lines at once, and add a title, legend, and axis labels:"
   ]
  },
  {
   "cell_type": "code",
   "execution_count": 65,
   "metadata": {},
   "outputs": [
    {
     "data": {
      "text/plain": [
       "<matplotlib.legend.Legend at 0x18961a5a5c0>"
      ]
     },
     "execution_count": 65,
     "metadata": {},
     "output_type": "execute_result"
    },
    {
     "data": {
      "image/png": "[encoded data removed]",
      "text/plain": [
       "<Figure size 432x288 with 1 Axes>"
      ]
     },
     "metadata": {
      "needs_background": "light"
     },
     "output_type": "display_data"
    }
   ],
   "source": [
    "y_sin = np.sin(x)\n",
    "y_cos = np.cos(x)\n",
    "\n",
    "# Plot the points using matplotlib\n",
    "plt.plot(x, y_sin)\n",
    "plt.plot(x, y_cos)\n",
    "\n",
    "# set labels on both axes\n",
    "plt.xlabel('x axis label')\n",
    "plt.ylabel('y axis label')\n",
    "\n",
    "# set tilte of the figure\n",
    "plt.title('Sine and Cosine')\n",
    "# set legend\n",
    "plt.legend(['Sine', 'Cosine'])"
   ]
  },
  {
   "cell_type": "markdown",
   "metadata": {},
   "source": [
    "### Subplots "
   ]
  },
  {
   "cell_type": "markdown",
   "metadata": {},
   "source": [
    "You can plot different things in the same figure using the subplot function. Here is an example:"
   ]
  },
  {
   "cell_type": "code",
   "execution_count": 211,
   "metadata": {},
   "outputs": [
    {
     "data": {
      "image/png": "[encoded data removed]",
      "text/plain": [
       "<matplotlib.figure.Figure at 0x7ff8550c0630>"
      ]
     },
     "metadata": {},
     "output_type": "display_data"
    }
   ],
   "source": [
    "# Compute the x and y coordinates for points on sine and cosine curves\n",
    "x = np.arange(0, 3 * np.pi, 0.1)\n",
    "y_sin = np.sin(x)\n",
    "y_cos = np.cos(x)\n",
    "\n",
    "# Set up a subplot grid that has height 2 and width 1,\n",
    "# and set the first such subplot as active.\n",
    "plt.subplot(2, 1, 1)\n",
    "\n",
    "# Make the first plot\n",
    "plt.plot(x, y_sin)\n",
    "plt.title('Sine')\n",
    "\n",
    "# Set the second subplot as active, and make the second plot.\n",
    "plt.subplot(2, 1, 2)\n",
    "plt.plot(x, y_cos)\n",
    "plt.title('Cosine')\n",
    "\n",
    "# Show the figure.\n",
    "plt.show()"
   ]
  },
  {
   "cell_type": "markdown",
   "metadata": {},
   "source": [
    "You can read much more about the `subplot` function in the [documentation](http://matplotlib.org/api/pyplot_api.html#matplotlib.pyplot.subplot)."
   ]
  },
  {
   "cell_type": "markdown",
   "metadata": {},
   "source": [
    "### Scatter, 3D plotting and visualisation"
   ]
  },
  {
   "cell_type": "markdown",
   "metadata": {},
   "source": [
    "Scatter points in 3D"
   ]
  },
  {
   "cell_type": "code",
   "execution_count": 219,
   "metadata": {},
   "outputs": [],
   "source": [
    "# This is the 3D plotting toolkit\n",
    "from mpl_toolkits.mplot3d.axes3d import Axes3D\n",
    "# running this to have interactive visualization (rotate to have a better view)\n",
    "%matplotlib notebook"
   ]
  },
  {
   "cell_type": "markdown",
   "metadata": {},
   "source": [
    "#### 3D scatter Plot"
   ]
  },
  {
   "cell_type": "code",
   "execution_count": 28,
   "metadata": {},
   "outputs": [
    {
     "ename": "NameError",
     "evalue": "name 'plt' is not defined",
     "output_type": "error",
     "traceback": [
      "\u001b[1;31m---------------------------------------------------------------------------\u001b[0m",
      "\u001b[1;31mNameError\u001b[0m                                 Traceback (most recent call last)",
      "\u001b[1;32mC:\\Users\\DANIEL~1\\AppData\\Local\\Temp/ipykernel_33872/1776650172.py\u001b[0m in \u001b[0;36m<module>\u001b[1;34m\u001b[0m\n\u001b[0;32m      1\u001b[0m \u001b[1;31m#a new figure will be created\u001b[0m\u001b[1;33m\u001b[0m\u001b[1;33m\u001b[0m\u001b[1;33m\u001b[0m\u001b[0m\n\u001b[1;32m----> 2\u001b[1;33m \u001b[0mfig\u001b[0m \u001b[1;33m=\u001b[0m \u001b[0mplt\u001b[0m\u001b[1;33m.\u001b[0m\u001b[0mfigure\u001b[0m\u001b[1;33m(\u001b[0m\u001b[1;33m)\u001b[0m\u001b[1;33m\u001b[0m\u001b[1;33m\u001b[0m\u001b[0m\n\u001b[0m\u001b[0;32m      3\u001b[0m \u001b[1;33m\u001b[0m\u001b[0m\n\u001b[0;32m      4\u001b[0m \u001b[1;31m#An Axes3D object is created using the projection=‘3d’ keyword\u001b[0m\u001b[1;33m\u001b[0m\u001b[1;33m\u001b[0m\u001b[1;33m\u001b[0m\u001b[0m\n\u001b[0;32m      5\u001b[0m \u001b[1;31m#ax = plt.axes(projection='3d')\u001b[0m\u001b[1;33m\u001b[0m\u001b[1;33m\u001b[0m\u001b[1;33m\u001b[0m\u001b[0m\n",
      "\u001b[1;31mNameError\u001b[0m: name 'plt' is not defined"
     ]
    }
   ],
   "source": [
    "#a new figure will be created\n",
    "fig = plt.figure()\n",
    "\n",
    "#An Axes3D object is created using the projection=‘3d’ keyword\n",
    "#ax = plt.axes(projection='3d')\n",
    "ax = fig.add_subplot(111, projection='3d') # the projection arg is important!\n",
    "\n",
    "#create data on three coordinates x,y,z\n",
    "z = np.linspace(0, 1, 100)\n",
    "x = z * np.sin(20 * z)\n",
    "y = z * np.cos(20 * z)\n",
    "\n",
    "# the color value of each point (x,y,z) will depend on its coordinates on x and y (sum between these two)\n",
    "c = x + y\n",
    "\n",
    "#set labels for three axis: x-axis, y-axis, z-axis\n",
    "ax.set_xlabel('X Label')\n",
    "ax.set_ylabel('Y Label')\n",
    "ax.set_zlabel('Z Label')\n",
    "\n",
    "# c means color \n",
    "ax.scatter(x, y, z, c=c)\n",
    "\n",
    "# Show the figure.\n",
    "plt.show()\n",
    "# drag and rotate the figure to view it better"
   ]
  },
  {
   "cell_type": "markdown",
   "metadata": {},
   "source": [
    "#### 3D Line Plot"
   ]
  },
  {
   "cell_type": "code",
   "execution_count": 203,
   "metadata": {},
   "outputs": [
    {
     "data": {
      "application/javascript": "/* Put everything inside the global mpl namespace */\nwindow.mpl = {};\n\n\nmpl.get_websocket_type = function() {\n    if (typeof(WebSocket) !== 'undefined') {\n        return WebSocket;\n    } else if (typeof(MozWebSocket) !== 'undefined') {\n        return MozWebSocket;\n    } else {\n        alert('Your browser does not have WebSocket support.' +\n              'Please try Chrome, Safari or Firefox ≥ 6. ' +\n              'Firefox 4 and 5 are also supported but you ' +\n              'have to enable WebSockets in about:config.');\n    };\n}\n\nmpl.figure = function(figure_id, websocket, ondownload, parent_element) {\n    this.id = figure_id;\n\n    this.ws = websocket;\n\n    this.supports_binary = (this.ws.binaryType != undefined);\n\n    if (!this.supports_binary) {\n        var warnings = document.getElementById(\"mpl-warnings\");\n        if (warnings) {\n            warnings.style.display = 'block';\n            warnings.textContent = (\n                \"This browser does not support binary websocket messages. \" +\n                    \"Performance may be slow.\");\n        }\n    }\n\n    this.imageObj = new Image();\n\n    this.context = undefined;\n    this.message = undefined;\n    this.canvas = undefined;\n    this.rubberband_canvas = undefined;\n    this.rubberband_context = undefined;\n    this.format_dropdown = undefined;\n\n    this.image_mode = 'full';\n\n    this.root = $('<div/>');\n    this._root_extra_style(this.root)\n    this.root.attr('style', 'display: inline-block');\n\n    $(parent_element).append(this.root);\n\n    this._init_header(this);\n    this._init_canvas(this);\n    this._init_toolbar(this);\n\n    var fig = this;\n\n    this.waiting = false;\n\n    this.ws.onopen =  function () {\n            fig.send_message(\"supports_binary\", {value: fig.supports_binary});\n            fig.send_message(\"send_image_mode\", {});\n            if (mpl.ratio != 1) {\n                fig.send_message(\"set_dpi_ratio\", {'dpi_ratio': mpl.ratio});\n            }\n            fig.send_message(\"refresh\", {});\n        }\n\n    this.imageObj.onload = function() {\n            if (fig.image_mode == 'full') {\n                // Full images could contain transparency (where diff images\n                // almost always do), so we need to clear the canvas so that\n                // there is no ghosting.\n                fig.context.clearRect(0, 0, fig.canvas.width, fig.canvas.height);\n            }\n            fig.context.drawImage(fig.imageObj, 0, 0);\n        };\n\n    this.imageObj.onunload = function() {\n        fig.ws.close();\n    }\n\n    this.ws.onmessage = this._make_on_message_function(this);\n\n    this.ondownload = ondownload;\n}\n\nmpl.figure.prototype._init_header = function() {\n    var titlebar = $(\n        '<div class=\"ui-dialog-titlebar ui-widget-header ui-corner-all ' +\n        'ui-helper-clearfix\"/>');\n    var titletext = $(\n        '<div class=\"ui-dialog-title\" style=\"width: 100%; ' +\n        'text-align: center; padding: 3px;\"/>');\n    titlebar.append(titletext)\n    this.root.append(titlebar);\n    this.header = titletext[0];\n}\n\n\n\nmpl.figure.prototype._canvas_extra_style = function(canvas_div) {\n\n}\n\n\nmpl.figure.prototype._root_extra_style = function(canvas_div) {\n\n}\n\nmpl.figure.prototype._init_canvas = function() {\n    var fig = this;\n\n    var canvas_div = $('<div/>');\n\n    canvas_div.attr('style', 'position: relative; clear: both; outline: 0');\n\n    function canvas_keyboard_event(event) {\n        return fig.key_event(event, event['data']);\n    }\n\n    canvas_div.keydown('key_press', canvas_keyboard_event);\n    canvas_div.keyup('key_release', canvas_keyboard_event);\n    this.canvas_div = canvas_div\n    this._canvas_extra_style(canvas_div)\n    this.root.append(canvas_div);\n\n    var canvas = $('<canvas/>');\n    canvas.addClass('mpl-canvas');\n    canvas.attr('style', \"left: 0; top: 0; z-index: 0; outline: 0\")\n\n    this.canvas = canvas[0];\n    this.context = canvas[0].getContext(\"2d\");\n\n    var backingStore = this.context.backingStorePixelRatio ||\n\tthis.context.webkitBackingStorePixelRatio ||\n\tthis.context.mozBackingStorePixelRatio ||\n\tthis.context.msBackingStorePixelRatio ||\n\tthis.context.oBackingStorePixelRatio ||\n\tthis.context.backingStorePixelRatio || 1;\n\n    mpl.ratio = (window.devicePixelRatio || 1) / backingStore;\n\n    var rubberband = $('<canvas/>');\n    rubberband.attr('style', \"position: absolute; left: 0; top: 0; z-index: 1;\")\n\n    var pass_mouse_events = true;\n\n    canvas_div.resizable({\n        start: function(event, ui) {\n            pass_mouse_events = false;\n        },\n        resize: function(event, ui) {\n            fig.request_resize(ui.size.width, ui.size.height);\n        },\n        stop: function(event, ui) {\n            pass_mouse_events = true;\n            fig.request_resize(ui.size.width, ui.size.height);\n        },\n    });\n\n    function mouse_event_fn(event) {\n        if (pass_mouse_events)\n            return fig.mouse_event(event, event['data']);\n    }\n\n    rubberband.mousedown('button_press', mouse_event_fn);\n    rubberband.mouseup('button_release', mouse_event_fn);\n    // Throttle sequential mouse events to 1 every 20ms.\n    rubberband.mousemove('motion_notify', mouse_event_fn);\n\n    rubberband.mouseenter('figure_enter', mouse_event_fn);\n    rubberband.mouseleave('figure_leave', mouse_event_fn);\n\n    canvas_div.on(\"wheel\", function (event) {\n        event = event.originalEvent;\n        event['data'] = 'scroll'\n        if (event.deltaY < 0) {\n            event.step = 1;\n        } else {\n            event.step = -1;\n        }\n        mouse_event_fn(event);\n    });\n\n    canvas_div.append(canvas);\n    canvas_div.append(rubberband);\n\n    this.rubberband = rubberband;\n    this.rubberband_canvas = rubberband[0];\n    this.rubberband_context = rubberband[0].getContext(\"2d\");\n    this.rubberband_context.strokeStyle = \"#000000\";\n\n    this._resize_canvas = function(width, height) {\n        // Keep the size of the canvas, canvas container, and rubber band\n        // canvas in synch.\n        canvas_div.css('width', width)\n        canvas_div.css('height', height)\n\n        canvas.attr('width', width * mpl.ratio);\n        canvas.attr('height', height * mpl.ratio);\n        canvas.attr('style', 'width: ' + width + 'px; height: ' + height + 'px;');\n\n        rubberband.attr('width', width);\n        rubberband.attr('height', height);\n    }\n\n    // Set the figure to an initial 600x600px, this will subsequently be updated\n    // upon first draw.\n    this._resize_canvas(600, 600);\n\n    // Disable right mouse context menu.\n    $(this.rubberband_canvas).bind(\"contextmenu\",function(e){\n        return false;\n    });\n\n    function set_focus () {\n        canvas.focus();\n        canvas_div.focus();\n    }\n\n    window.setTimeout(set_focus, 100);\n}\n\nmpl.figure.prototype._init_toolbar = function() {\n    var fig = this;\n\n    var nav_element = $('<div/>')\n    nav_element.attr('style', 'width: 100%');\n    this.root.append(nav_element);\n\n    // Define a callback function for later on.\n    function toolbar_event(event) {\n        return fig.toolbar_button_onclick(event['data']);\n    }\n    function toolbar_mouse_event(event) {\n        return fig.toolbar_button_onmouseover(event['data']);\n    }\n\n    for(var toolbar_ind in mpl.toolbar_items) {\n        var name = mpl.toolbar_items[toolbar_ind][0];\n        var tooltip = mpl.toolbar_items[toolbar_ind][1];\n        var image = mpl.toolbar_items[toolbar_ind][2];\n        var method_name = mpl.toolbar_items[toolbar_ind][3];\n\n        if (!name) {\n            // put a spacer in here.\n            continue;\n        }\n        var button = $('<button/>');\n        button.addClass('ui-button ui-widget ui-state-default ui-corner-all ' +\n                        'ui-button-icon-only');\n        button.attr('role', 'button');\n        button.attr('aria-disabled', 'false');\n        button.click(method_name, toolbar_event);\n        button.mouseover(tooltip, toolbar_mouse_event);\n\n        var icon_img = $('<span/>');\n        icon_img.addClass('ui-button-icon-primary ui-icon');\n        icon_img.addClass(image);\n        icon_img.addClass('ui-corner-all');\n\n        var tooltip_span = $('<span/>');\n        tooltip_span.addClass('ui-button-text');\n        tooltip_span.html(tooltip);\n\n        button.append(icon_img);\n        button.append(tooltip_span);\n\n        nav_element.append(button);\n    }\n\n    var fmt_picker_span = $('<span/>');\n\n    var fmt_picker = $('<select/>');\n    fmt_picker.addClass('mpl-toolbar-option ui-widget ui-widget-content');\n    fmt_picker_span.append(fmt_picker);\n    nav_element.append(fmt_picker_span);\n    this.format_dropdown = fmt_picker[0];\n\n    for (var ind in mpl.extensions) {\n        var fmt = mpl.extensions[ind];\n        var option = $(\n            '<option/>', {selected: fmt === mpl.default_extension}).html(fmt);\n        fmt_picker.append(option)\n    }\n\n    // Add hover states to the ui-buttons\n    $( \".ui-button\" ).hover(\n        function() { $(this).addClass(\"ui-state-hover\");},\n        function() { $(this).removeClass(\"ui-state-hover\");}\n    );\n\n    var status_bar = $('<span class=\"mpl-message\"/>');\n    nav_element.append(status_bar);\n    this.message = status_bar[0];\n}\n\nmpl.figure.prototype.request_resize = function(x_pixels, y_pixels) {\n    // Request matplotlib to resize the figure. Matplotlib will then trigger a resize in the client,\n    // which will in turn request a refresh of the image.\n    this.send_message('resize', {'width': x_pixels, 'height': y_pixels});\n}\n\nmpl.figure.prototype.send_message = function(type, properties) {\n    properties['type'] = type;\n    properties['figure_id'] = this.id;\n    this.ws.send(JSON.stringify(properties));\n}\n\nmpl.figure.prototype.send_draw_message = function() {\n    if (!this.waiting) {\n        this.waiting = true;\n        this.ws.send(JSON.stringify({type: \"draw\", figure_id: this.id}));\n    }\n}\n\n\nmpl.figure.prototype.handle_save = function(fig, msg) {\n    var format_dropdown = fig.format_dropdown;\n    var format = format_dropdown.options[format_dropdown.selectedIndex].value;\n    fig.ondownload(fig, format);\n}\n\n\nmpl.figure.prototype.handle_resize = function(fig, msg) {\n    var size = msg['size'];\n    if (size[0] != fig.canvas.width || size[1] != fig.canvas.height) {\n        fig._resize_canvas(size[0], size[1]);\n        fig.send_message(\"refresh\", {});\n    };\n}\n\nmpl.figure.prototype.handle_rubberband = function(fig, msg) {\n    var x0 = msg['x0'] / mpl.ratio;\n    var y0 = (fig.canvas.height - msg['y0']) / mpl.ratio;\n    var x1 = msg['x1'] / mpl.ratio;\n    var y1 = (fig.canvas.height - msg['y1']) / mpl.ratio;\n    x0 = Math.floor(x0) + 0.5;\n    y0 = Math.floor(y0) + 0.5;\n    x1 = Math.floor(x1) + 0.5;\n    y1 = Math.floor(y1) + 0.5;\n    var min_x = Math.min(x0, x1);\n    var min_y = Math.min(y0, y1);\n    var width = Math.abs(x1 - x0);\n    var height = Math.abs(y1 - y0);\n\n    fig.rubberband_context.clearRect(\n        0, 0, fig.canvas.width, fig.canvas.height);\n\n    fig.rubberband_context.strokeRect(min_x, min_y, width, height);\n}\n\nmpl.figure.prototype.handle_figure_label = function(fig, msg) {\n    // Updates the figure title.\n    fig.header.textContent = msg['label'];\n}\n\nmpl.figure.prototype.handle_cursor = function(fig, msg) {\n    var cursor = msg['cursor'];\n    switch(cursor)\n    {\n    case 0:\n        cursor = 'pointer';\n        break;\n    case 1:\n        cursor = 'default';\n        break;\n    case 2:\n        cursor = 'crosshair';\n        break;\n    case 3:\n        cursor = 'move';\n        break;\n    }\n    fig.rubberband_canvas.style.cursor = cursor;\n}\n\nmpl.figure.prototype.handle_message = function(fig, msg) {\n    fig.message.textContent = msg['message'];\n}\n\nmpl.figure.prototype.handle_draw = function(fig, msg) {\n    // Request the server to send over a new figure.\n    fig.send_draw_message();\n}\n\nmpl.figure.prototype.handle_image_mode = function(fig, msg) {\n    fig.image_mode = msg['mode'];\n}\n\nmpl.figure.prototype.updated_canvas_event = function() {\n    // Called whenever the canvas gets updated.\n    this.send_message(\"ack\", {});\n}\n\n// A function to construct a web socket function for onmessage handling.\n// Called in the figure constructor.\nmpl.figure.prototype._make_on_message_function = function(fig) {\n    return function socket_on_message(evt) {\n        if (evt.data instanceof Blob) {\n            /* FIXME: We get \"Resource interpreted as Image but\n             * transferred with MIME type text/plain:\" errors on\n             * Chrome.  But how to set the MIME type?  It doesn't seem\n             * to be part of the websocket stream */\n            evt.data.type = \"image/png\";\n\n            /* Free the memory for the previous frames */\n            if (fig.imageObj.src) {\n                (window.URL || window.webkitURL).revokeObjectURL(\n                    fig.imageObj.src);\n            }\n\n            fig.imageObj.src = (window.URL || window.webkitURL).createObjectURL(\n                evt.data);\n            fig.updated_canvas_event();\n            fig.waiting = false;\n            return;\n        }\n        else if (typeof evt.data === 'string' && evt.data.slice(0, 21) == \"data:image/png;base64\") {\n            fig.imageObj.src = evt.data;\n            fig.updated_canvas_event();\n            fig.waiting = false;\n            return;\n        }\n\n        var msg = JSON.parse(evt.data);\n        var msg_type = msg['type'];\n\n        // Call the  \"handle_{type}\" callback, which takes\n        // the figure and JSON message as its only arguments.\n        try {\n            var callback = fig[\"handle_\" + msg_type];\n        } catch (e) {\n            console.log(\"No handler for the '\" + msg_type + \"' message type: \", msg);\n            return;\n        }\n\n        if (callback) {\n            try {\n                // console.log(\"Handling '\" + msg_type + \"' message: \", msg);\n                callback(fig, msg);\n            } catch (e) {\n                console.log(\"Exception inside the 'handler_\" + msg_type + \"' callback:\", e, e.stack, msg);\n            }\n        }\n    };\n}\n\n// from http://stackoverflow.com/questions/1114465/getting-mouse-location-in-canvas\nmpl.findpos = function(e) {\n    //this section is from http://www.quirksmode.org/js/events_properties.html\n    var targ;\n    if (!e)\n        e = window.event;\n    if (e.target)\n        targ = e.target;\n    else if (e.srcElement)\n        targ = e.srcElement;\n    if (targ.nodeType == 3) // defeat Safari bug\n        targ = targ.parentNode;\n\n    // jQuery normalizes the pageX and pageY\n    // pageX,Y are the mouse positions relative to the document\n    // offset() returns the position of the element relative to the document\n    var x = e.pageX - $(targ).offset().left;\n    var y = e.pageY - $(targ).offset().top;\n\n    return {\"x\": x, \"y\": y};\n};\n\n/*\n * return a copy of an object with only non-object keys\n * we need this to avoid circular references\n * http://stackoverflow.com/a/24161582/3208463\n */\nfunction simpleKeys (original) {\n  return Object.keys(original).reduce(function (obj, key) {\n    if (typeof original[key] !== 'object')\n        obj[key] = original[key]\n    return obj;\n  }, {});\n}\n\nmpl.figure.prototype.mouse_event = function(event, name) {\n    var canvas_pos = mpl.findpos(event)\n\n    if (name === 'button_press')\n    {\n        this.canvas.focus();\n        this.canvas_div.focus();\n    }\n\n    var x = canvas_pos.x * mpl.ratio;\n    var y = canvas_pos.y * mpl.ratio;\n\n    this.send_message(name, {x: x, y: y, button: event.button,\n                             step: event.step,\n                             guiEvent: simpleKeys(event)});\n\n    /* This prevents the web browser from automatically changing to\n     * the text insertion cursor when the button is pressed.  We want\n     * to control all of the cursor setting manually through the\n     * 'cursor' event from matplotlib */\n    event.preventDefault();\n    return false;\n}\n\nmpl.figure.prototype._key_event_extra = function(event, name) {\n    // Handle any extra behaviour associated with a key event\n}\n\nmpl.figure.prototype.key_event = function(event, name) {\n\n    // Prevent repeat events\n    if (name == 'key_press')\n    {\n        if (event.which === this._key)\n            return;\n        else\n            this._key = event.which;\n    }\n    if (name == 'key_release')\n        this._key = null;\n\n    var value = '';\n    if (event.ctrlKey && event.which != 17)\n        value += \"ctrl+\";\n    if (event.altKey && event.which != 18)\n        value += \"alt+\";\n    if (event.shiftKey && event.which != 16)\n        value += \"shift+\";\n\n    value += 'k';\n    value += event.which.toString();\n\n    this._key_event_extra(event, name);\n\n    this.send_message(name, {key: value,\n                             guiEvent: simpleKeys(event)});\n    return false;\n}\n\nmpl.figure.prototype.toolbar_button_onclick = function(name) {\n    if (name == 'download') {\n        this.handle_save(this, null);\n    } else {\n        this.send_message(\"toolbar_button\", {name: name});\n    }\n};\n\nmpl.figure.prototype.toolbar_button_onmouseover = function(tooltip) {\n    this.message.textContent = tooltip;\n};\nmpl.toolbar_items = [[\"Home\", \"Reset original view\", \"fa fa-home icon-home\", \"home\"], [\"Back\", \"Back to  previous view\", \"fa fa-arrow-left icon-arrow-left\", \"back\"], [\"Forward\", \"Forward to next view\", \"fa fa-arrow-right icon-arrow-right\", \"forward\"], [\"\", \"\", \"\", \"\"], [\"Pan\", \"Pan axes with left mouse, zoom with right\", \"fa fa-arrows icon-move\", \"pan\"], [\"Zoom\", \"Zoom to rectangle\", \"fa fa-square-o icon-check-empty\", \"zoom\"], [\"\", \"\", \"\", \"\"], [\"Download\", \"Download plot\", \"fa fa-floppy-o icon-save\", \"download\"]];\n\nmpl.extensions = [\"eps\", \"jpeg\", \"pdf\", \"png\", \"ps\", \"raw\", \"svg\", \"tif\"];\n\nmpl.default_extension = \"png\";var comm_websocket_adapter = function(comm) {\n    // Create a \"websocket\"-like object which calls the given IPython comm\n    // object with the appropriate methods. Currently this is a non binary\n    // socket, so there is still some room for performance tuning.\n    var ws = {};\n\n    ws.close = function() {\n        comm.close()\n    };\n    ws.send = function(m) {\n        //console.log('sending', m);\n        comm.send(m);\n    };\n    // Register the callback with on_msg.\n    comm.on_msg(function(msg) {\n        //console.log('receiving', msg['content']['data'], msg);\n        // Pass the mpl event to the overriden (by mpl) onmessage function.\n        ws.onmessage(msg['content']['data'])\n    });\n    return ws;\n}\n\nmpl.mpl_figure_comm = function(comm, msg) {\n    // This is the function which gets called when the mpl process\n    // starts-up an IPython Comm through the \"matplotlib\" channel.\n\n    var id = msg.content.data.id;\n    // Get hold of the div created by the display call when the Comm\n    // socket was opened in Python.\n    var element = $(\"#\" + id);\n    var ws_proxy = comm_websocket_adapter(comm)\n\n    function ondownload(figure, format) {\n        window.open(figure.imageObj.src);\n    }\n\n    var fig = new mpl.figure(id, ws_proxy,\n                           ondownload,\n                           element.get(0));\n\n    // Call onopen now - mpl needs it, as it is assuming we've passed it a real\n    // web socket which is closed, not our websocket->open comm proxy.\n    ws_proxy.onopen();\n\n    fig.parent_element = element.get(0);\n    fig.cell_info = mpl.find_output_cell(\"<div id='\" + id + \"'></div>\");\n    if (!fig.cell_info) {\n        console.error(\"Failed to find cell for figure\", id, fig);\n        return;\n    }\n\n    var output_index = fig.cell_info[2]\n    var cell = fig.cell_info[0];\n\n};\n\nmpl.figure.prototype.handle_close = function(fig, msg) {\n    var width = fig.canvas.width/mpl.ratio\n    fig.root.unbind('remove')\n\n    // Update the output cell to use the data from the current canvas.\n    fig.push_to_output();\n    var dataURL = fig.canvas.toDataURL();\n    // Re-enable the keyboard manager in IPython - without this line, in FF,\n    // the notebook keyboard shortcuts fail.\n    IPython.keyboard_manager.enable()\n    $(fig.parent_element).html('<img src=\"' + dataURL + '\" width=\"' + width + '\">');\n    fig.close_ws(fig, msg);\n}\n\nmpl.figure.prototype.close_ws = function(fig, msg){\n    fig.send_message('closing', msg);\n    // fig.ws.close()\n}\n\nmpl.figure.prototype.push_to_output = function(remove_interactive) {\n    // Turn the data on the canvas into data in the output cell.\n    var width = this.canvas.width/mpl.ratio\n    var dataURL = this.canvas.toDataURL();\n    this.cell_info[1]['text/html'] = '<img src=\"' + dataURL + '\" width=\"' + width + '\">';\n}\n\nmpl.figure.prototype.updated_canvas_event = function() {\n    // Tell IPython that the notebook contents must change.\n    IPython.notebook.set_dirty(true);\n    this.send_message(\"ack\", {});\n    var fig = this;\n    // Wait a second, then push the new image to the DOM so\n    // that it is saved nicely (might be nice to debounce this).\n    setTimeout(function () { fig.push_to_output() }, 1000);\n}\n\nmpl.figure.prototype._init_toolbar = function() {\n    var fig = this;\n\n    var nav_element = $('<div/>')\n    nav_element.attr('style', 'width: 100%');\n    this.root.append(nav_element);\n\n    // Define a callback function for later on.\n    function toolbar_event(event) {\n        return fig.toolbar_button_onclick(event['data']);\n    }\n    function toolbar_mouse_event(event) {\n        return fig.toolbar_button_onmouseover(event['data']);\n    }\n\n    for(var toolbar_ind in mpl.toolbar_items){\n        var name = mpl.toolbar_items[toolbar_ind][0];\n        var tooltip = mpl.toolbar_items[toolbar_ind][1];\n        var image = mpl.toolbar_items[toolbar_ind][2];\n        var method_name = mpl.toolbar_items[toolbar_ind][3];\n\n        if (!name) { continue; };\n\n        var button = $('<button class=\"btn btn-default\" href=\"#\" title=\"' + name + '\"><i class=\"fa ' + image + ' fa-lg\"></i></button>');\n        button.click(method_name, toolbar_event);\n        button.mouseover(tooltip, toolbar_mouse_event);\n        nav_element.append(button);\n    }\n\n    // Add the status bar.\n    var status_bar = $('<span class=\"mpl-message\" style=\"text-align:right; float: right;\"/>');\n    nav_element.append(status_bar);\n    this.message = status_bar[0];\n\n    // Add the close button to the window.\n    var buttongrp = $('<div class=\"btn-group inline pull-right\"></div>');\n    var button = $('<button class=\"btn btn-mini btn-primary\" href=\"#\" title=\"Stop Interaction\"><i class=\"fa fa-power-off icon-remove icon-large\"></i></button>');\n    button.click(function (evt) { fig.handle_close(fig, {}); } );\n    button.mouseover('Stop Interaction', toolbar_mouse_event);\n    buttongrp.append(button);\n    var titlebar = this.root.find($('.ui-dialog-titlebar'));\n    titlebar.prepend(buttongrp);\n}\n\nmpl.figure.prototype._root_extra_style = function(el){\n    var fig = this\n    el.on(\"remove\", function(){\n\tfig.close_ws(fig, {});\n    });\n}\n\nmpl.figure.prototype._canvas_extra_style = function(el){\n    // this is important to make the div 'focusable\n    el.attr('tabindex', 0)\n    // reach out to IPython and tell the keyboard manager to turn it's self\n    // off when our div gets focus\n\n    // location in version 3\n    if (IPython.notebook.keyboard_manager) {\n        IPython.notebook.keyboard_manager.register_events(el);\n    }\n    else {\n        // location in version 2\n        IPython.keyboard_manager.register_events(el);\n    }\n\n}\n\nmpl.figure.prototype._key_event_extra = function(event, name) {\n    var manager = IPython.notebook.keyboard_manager;\n    if (!manager)\n        manager = IPython.keyboard_manager;\n\n    // Check for shift+enter\n    if (event.shiftKey && event.which == 13) {\n        this.canvas_div.blur();\n        event.shiftKey = false;\n        // Send a \"J\" for go to next cell\n        event.which = 74;\n        event.keyCode = 74;\n        manager.command_mode();\n        manager.handle_keydown(event);\n    }\n}\n\nmpl.figure.prototype.handle_save = function(fig, msg) {\n    fig.ondownload(fig, null);\n}\n\n\nmpl.find_output_cell = function(html_output) {\n    // Return the cell and output element which can be found *uniquely* in the notebook.\n    // Note - this is a bit hacky, but it is done because the \"notebook_saving.Notebook\"\n    // IPython event is triggered only after the cells have been serialised, which for\n    // our purposes (turning an active figure into a static one), is too late.\n    var cells = IPython.notebook.get_cells();\n    var ncells = cells.length;\n    for (var i=0; i<ncells; i++) {\n        var cell = cells[i];\n        if (cell.cell_type === 'code'){\n            for (var j=0; j<cell.output_area.outputs.length; j++) {\n                var data = cell.output_area.outputs[j];\n                if (data.data) {\n                    // IPython >= 3 moved mimebundle to data attribute of output\n                    data = data.data;\n                }\n                if (data['text/html'] == html_output) {\n                    return [cell, data, j];\n                }\n            }\n        }\n    }\n}\n\n// Register the function which deals with the matplotlib target/channel.\n// The kernel may be null if the page has been refreshed.\nif (IPython.notebook.kernel != null) {\n    IPython.notebook.kernel.comm_manager.register_target('matplotlib', mpl.mpl_figure_comm);\n}\n",
      "text/plain": [
       "<IPython.core.display.Javascript object>"
      ]
     },
     "metadata": {},
     "output_type": "display_data"
    },
    {
     "data": {
      "text/html": [
       "<img src=\"data:image/png;base64,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\" width=\"432\">"
      ],
      "text/plain": [
       "<IPython.core.display.HTML object>"
      ]
     },
     "metadata": {},
     "output_type": "display_data"
    }
   ],
   "source": [
    "#a new figure will be created\n",
    "fig = plt.figure()\n",
    "ax = plt.axes(projection='3d')\n",
    "\n",
    "z = np.linspace(0, 1, 100)\n",
    "x = z * np.sin(20 * z)\n",
    "y = z * np.cos(20 * z)\n",
    "\n",
    "\n",
    "# setting: '-' means solid line style; 'b' means with Blue color\n",
    "ax.plot(x, y, z, linestyle='-', color= 'b')\n",
    "\n",
    "#set labels for three axis: x-axis, y-axis, z-axis\n",
    "ax.set_xlabel('X Label')\n",
    "ax.set_ylabel('Y Label')\n",
    "ax.set_zlabel('Z Label')\n",
    "\n",
    "\n",
    "\n",
    "# Show the figure.\n",
    "plt.show()\n",
    "# drag and rotate the figure to view it better"
   ]
  },
  {
   "cell_type": "markdown",
   "metadata": {},
   "source": [
    "#### 3D Surface "
   ]
  },
  {
   "cell_type": "code",
   "execution_count": 204,
   "metadata": {},
   "outputs": [
    {
     "data": {
      "application/javascript": "/* Put everything inside the global mpl namespace */\nwindow.mpl = {};\n\n\nmpl.get_websocket_type = function() {\n    if (typeof(WebSocket) !== 'undefined') {\n        return WebSocket;\n    } else if (typeof(MozWebSocket) !== 'undefined') {\n        return MozWebSocket;\n    } else {\n        alert('Your browser does not have WebSocket support.' +\n              'Please try Chrome, Safari or Firefox ≥ 6. ' +\n              'Firefox 4 and 5 are also supported but you ' +\n              'have to enable WebSockets in about:config.');\n    };\n}\n\nmpl.figure = function(figure_id, websocket, ondownload, parent_element) {\n    this.id = figure_id;\n\n    this.ws = websocket;\n\n    this.supports_binary = (this.ws.binaryType != undefined);\n\n    if (!this.supports_binary) {\n        var warnings = document.getElementById(\"mpl-warnings\");\n        if (warnings) {\n            warnings.style.display = 'block';\n            warnings.textContent = (\n                \"This browser does not support binary websocket messages. \" +\n                    \"Performance may be slow.\");\n        }\n    }\n\n    this.imageObj = new Image();\n\n    this.context = undefined;\n    this.message = undefined;\n    this.canvas = undefined;\n    this.rubberband_canvas = undefined;\n    this.rubberband_context = undefined;\n    this.format_dropdown = undefined;\n\n    this.image_mode = 'full';\n\n    this.root = $('<div/>');\n    this._root_extra_style(this.root)\n    this.root.attr('style', 'display: inline-block');\n\n    $(parent_element).append(this.root);\n\n    this._init_header(this);\n    this._init_canvas(this);\n    this._init_toolbar(this);\n\n    var fig = this;\n\n    this.waiting = false;\n\n    this.ws.onopen =  function () {\n            fig.send_message(\"supports_binary\", {value: fig.supports_binary});\n            fig.send_message(\"send_image_mode\", {});\n            if (mpl.ratio != 1) {\n                fig.send_message(\"set_dpi_ratio\", {'dpi_ratio': mpl.ratio});\n            }\n            fig.send_message(\"refresh\", {});\n        }\n\n    this.imageObj.onload = function() {\n            if (fig.image_mode == 'full') {\n                // Full images could contain transparency (where diff images\n                // almost always do), so we need to clear the canvas so that\n                // there is no ghosting.\n                fig.context.clearRect(0, 0, fig.canvas.width, fig.canvas.height);\n            }\n            fig.context.drawImage(fig.imageObj, 0, 0);\n        };\n\n    this.imageObj.onunload = function() {\n        fig.ws.close();\n    }\n\n    this.ws.onmessage = this._make_on_message_function(this);\n\n    this.ondownload = ondownload;\n}\n\nmpl.figure.prototype._init_header = function() {\n    var titlebar = $(\n        '<div class=\"ui-dialog-titlebar ui-widget-header ui-corner-all ' +\n        'ui-helper-clearfix\"/>');\n    var titletext = $(\n        '<div class=\"ui-dialog-title\" style=\"width: 100%; ' +\n        'text-align: center; padding: 3px;\"/>');\n    titlebar.append(titletext)\n    this.root.append(titlebar);\n    this.header = titletext[0];\n}\n\n\n\nmpl.figure.prototype._canvas_extra_style = function(canvas_div) {\n\n}\n\n\nmpl.figure.prototype._root_extra_style = function(canvas_div) {\n\n}\n\nmpl.figure.prototype._init_canvas = function() {\n    var fig = this;\n\n    var canvas_div = $('<div/>');\n\n    canvas_div.attr('style', 'position: relative; clear: both; outline: 0');\n\n    function canvas_keyboard_event(event) {\n        return fig.key_event(event, event['data']);\n    }\n\n    canvas_div.keydown('key_press', canvas_keyboard_event);\n    canvas_div.keyup('key_release', canvas_keyboard_event);\n    this.canvas_div = canvas_div\n    this._canvas_extra_style(canvas_div)\n    this.root.append(canvas_div);\n\n    var canvas = $('<canvas/>');\n    canvas.addClass('mpl-canvas');\n    canvas.attr('style', \"left: 0; top: 0; z-index: 0; outline: 0\")\n\n    this.canvas = canvas[0];\n    this.context = canvas[0].getContext(\"2d\");\n\n    var backingStore = this.context.backingStorePixelRatio ||\n\tthis.context.webkitBackingStorePixelRatio ||\n\tthis.context.mozBackingStorePixelRatio ||\n\tthis.context.msBackingStorePixelRatio ||\n\tthis.context.oBackingStorePixelRatio ||\n\tthis.context.backingStorePixelRatio || 1;\n\n    mpl.ratio = (window.devicePixelRatio || 1) / backingStore;\n\n    var rubberband = $('<canvas/>');\n    rubberband.attr('style', \"position: absolute; left: 0; top: 0; z-index: 1;\")\n\n    var pass_mouse_events = true;\n\n    canvas_div.resizable({\n        start: function(event, ui) {\n            pass_mouse_events = false;\n        },\n        resize: function(event, ui) {\n            fig.request_resize(ui.size.width, ui.size.height);\n        },\n        stop: function(event, ui) {\n            pass_mouse_events = true;\n            fig.request_resize(ui.size.width, ui.size.height);\n        },\n    });\n\n    function mouse_event_fn(event) {\n        if (pass_mouse_events)\n            return fig.mouse_event(event, event['data']);\n    }\n\n    rubberband.mousedown('button_press', mouse_event_fn);\n    rubberband.mouseup('button_release', mouse_event_fn);\n    // Throttle sequential mouse events to 1 every 20ms.\n    rubberband.mousemove('motion_notify', mouse_event_fn);\n\n    rubberband.mouseenter('figure_enter', mouse_event_fn);\n    rubberband.mouseleave('figure_leave', mouse_event_fn);\n\n    canvas_div.on(\"wheel\", function (event) {\n        event = event.originalEvent;\n        event['data'] = 'scroll'\n        if (event.deltaY < 0) {\n            event.step = 1;\n        } else {\n            event.step = -1;\n        }\n        mouse_event_fn(event);\n    });\n\n    canvas_div.append(canvas);\n    canvas_div.append(rubberband);\n\n    this.rubberband = rubberband;\n    this.rubberband_canvas = rubberband[0];\n    this.rubberband_context = rubberband[0].getContext(\"2d\");\n    this.rubberband_context.strokeStyle = \"#000000\";\n\n    this._resize_canvas = function(width, height) {\n        // Keep the size of the canvas, canvas container, and rubber band\n        // canvas in synch.\n        canvas_div.css('width', width)\n        canvas_div.css('height', height)\n\n        canvas.attr('width', width * mpl.ratio);\n        canvas.attr('height', height * mpl.ratio);\n        canvas.attr('style', 'width: ' + width + 'px; height: ' + height + 'px;');\n\n        rubberband.attr('width', width);\n        rubberband.attr('height', height);\n    }\n\n    // Set the figure to an initial 600x600px, this will subsequently be updated\n    // upon first draw.\n    this._resize_canvas(600, 600);\n\n    // Disable right mouse context menu.\n    $(this.rubberband_canvas).bind(\"contextmenu\",function(e){\n        return false;\n    });\n\n    function set_focus () {\n        canvas.focus();\n        canvas_div.focus();\n    }\n\n    window.setTimeout(set_focus, 100);\n}\n\nmpl.figure.prototype._init_toolbar = function() {\n    var fig = this;\n\n    var nav_element = $('<div/>')\n    nav_element.attr('style', 'width: 100%');\n    this.root.append(nav_element);\n\n    // Define a callback function for later on.\n    function toolbar_event(event) {\n        return fig.toolbar_button_onclick(event['data']);\n    }\n    function toolbar_mouse_event(event) {\n        return fig.toolbar_button_onmouseover(event['data']);\n    }\n\n    for(var toolbar_ind in mpl.toolbar_items) {\n        var name = mpl.toolbar_items[toolbar_ind][0];\n        var tooltip = mpl.toolbar_items[toolbar_ind][1];\n        var image = mpl.toolbar_items[toolbar_ind][2];\n        var method_name = mpl.toolbar_items[toolbar_ind][3];\n\n        if (!name) {\n            // put a spacer in here.\n            continue;\n        }\n        var button = $('<button/>');\n        button.addClass('ui-button ui-widget ui-state-default ui-corner-all ' +\n                        'ui-button-icon-only');\n        button.attr('role', 'button');\n        button.attr('aria-disabled', 'false');\n        button.click(method_name, toolbar_event);\n        button.mouseover(tooltip, toolbar_mouse_event);\n\n        var icon_img = $('<span/>');\n        icon_img.addClass('ui-button-icon-primary ui-icon');\n        icon_img.addClass(image);\n        icon_img.addClass('ui-corner-all');\n\n        var tooltip_span = $('<span/>');\n        tooltip_span.addClass('ui-button-text');\n        tooltip_span.html(tooltip);\n\n        button.append(icon_img);\n        button.append(tooltip_span);\n\n        nav_element.append(button);\n    }\n\n    var fmt_picker_span = $('<span/>');\n\n    var fmt_picker = $('<select/>');\n    fmt_picker.addClass('mpl-toolbar-option ui-widget ui-widget-content');\n    fmt_picker_span.append(fmt_picker);\n    nav_element.append(fmt_picker_span);\n    this.format_dropdown = fmt_picker[0];\n\n    for (var ind in mpl.extensions) {\n        var fmt = mpl.extensions[ind];\n        var option = $(\n            '<option/>', {selected: fmt === mpl.default_extension}).html(fmt);\n        fmt_picker.append(option)\n    }\n\n    // Add hover states to the ui-buttons\n    $( \".ui-button\" ).hover(\n        function() { $(this).addClass(\"ui-state-hover\");},\n        function() { $(this).removeClass(\"ui-state-hover\");}\n    );\n\n    var status_bar = $('<span class=\"mpl-message\"/>');\n    nav_element.append(status_bar);\n    this.message = status_bar[0];\n}\n\nmpl.figure.prototype.request_resize = function(x_pixels, y_pixels) {\n    // Request matplotlib to resize the figure. Matplotlib will then trigger a resize in the client,\n    // which will in turn request a refresh of the image.\n    this.send_message('resize', {'width': x_pixels, 'height': y_pixels});\n}\n\nmpl.figure.prototype.send_message = function(type, properties) {\n    properties['type'] = type;\n    properties['figure_id'] = this.id;\n    this.ws.send(JSON.stringify(properties));\n}\n\nmpl.figure.prototype.send_draw_message = function() {\n    if (!this.waiting) {\n        this.waiting = true;\n        this.ws.send(JSON.stringify({type: \"draw\", figure_id: this.id}));\n    }\n}\n\n\nmpl.figure.prototype.handle_save = function(fig, msg) {\n    var format_dropdown = fig.format_dropdown;\n    var format = format_dropdown.options[format_dropdown.selectedIndex].value;\n    fig.ondownload(fig, format);\n}\n\n\nmpl.figure.prototype.handle_resize = function(fig, msg) {\n    var size = msg['size'];\n    if (size[0] != fig.canvas.width || size[1] != fig.canvas.height) {\n        fig._resize_canvas(size[0], size[1]);\n        fig.send_message(\"refresh\", {});\n    };\n}\n\nmpl.figure.prototype.handle_rubberband = function(fig, msg) {\n    var x0 = msg['x0'] / mpl.ratio;\n    var y0 = (fig.canvas.height - msg['y0']) / mpl.ratio;\n    var x1 = msg['x1'] / mpl.ratio;\n    var y1 = (fig.canvas.height - msg['y1']) / mpl.ratio;\n    x0 = Math.floor(x0) + 0.5;\n    y0 = Math.floor(y0) + 0.5;\n    x1 = Math.floor(x1) + 0.5;\n    y1 = Math.floor(y1) + 0.5;\n    var min_x = Math.min(x0, x1);\n    var min_y = Math.min(y0, y1);\n    var width = Math.abs(x1 - x0);\n    var height = Math.abs(y1 - y0);\n\n    fig.rubberband_context.clearRect(\n        0, 0, fig.canvas.width, fig.canvas.height);\n\n    fig.rubberband_context.strokeRect(min_x, min_y, width, height);\n}\n\nmpl.figure.prototype.handle_figure_label = function(fig, msg) {\n    // Updates the figure title.\n    fig.header.textContent = msg['label'];\n}\n\nmpl.figure.prototype.handle_cursor = function(fig, msg) {\n    var cursor = msg['cursor'];\n    switch(cursor)\n    {\n    case 0:\n        cursor = 'pointer';\n        break;\n    case 1:\n        cursor = 'default';\n        break;\n    case 2:\n        cursor = 'crosshair';\n        break;\n    case 3:\n        cursor = 'move';\n        break;\n    }\n    fig.rubberband_canvas.style.cursor = cursor;\n}\n\nmpl.figure.prototype.handle_message = function(fig, msg) {\n    fig.message.textContent = msg['message'];\n}\n\nmpl.figure.prototype.handle_draw = function(fig, msg) {\n    // Request the server to send over a new figure.\n    fig.send_draw_message();\n}\n\nmpl.figure.prototype.handle_image_mode = function(fig, msg) {\n    fig.image_mode = msg['mode'];\n}\n\nmpl.figure.prototype.updated_canvas_event = function() {\n    // Called whenever the canvas gets updated.\n    this.send_message(\"ack\", {});\n}\n\n// A function to construct a web socket function for onmessage handling.\n// Called in the figure constructor.\nmpl.figure.prototype._make_on_message_function = function(fig) {\n    return function socket_on_message(evt) {\n        if (evt.data instanceof Blob) {\n            /* FIXME: We get \"Resource interpreted as Image but\n             * transferred with MIME type text/plain:\" errors on\n             * Chrome.  But how to set the MIME type?  It doesn't seem\n             * to be part of the websocket stream */\n            evt.data.type = \"image/png\";\n\n            /* Free the memory for the previous frames */\n            if (fig.imageObj.src) {\n                (window.URL || window.webkitURL).revokeObjectURL(\n                    fig.imageObj.src);\n            }\n\n            fig.imageObj.src = (window.URL || window.webkitURL).createObjectURL(\n                evt.data);\n            fig.updated_canvas_event();\n            fig.waiting = false;\n            return;\n        }\n        else if (typeof evt.data === 'string' && evt.data.slice(0, 21) == \"data:image/png;base64\") {\n            fig.imageObj.src = evt.data;\n            fig.updated_canvas_event();\n            fig.waiting = false;\n            return;\n        }\n\n        var msg = JSON.parse(evt.data);\n        var msg_type = msg['type'];\n\n        // Call the  \"handle_{type}\" callback, which takes\n        // the figure and JSON message as its only arguments.\n        try {\n            var callback = fig[\"handle_\" + msg_type];\n        } catch (e) {\n            console.log(\"No handler for the '\" + msg_type + \"' message type: \", msg);\n            return;\n        }\n\n        if (callback) {\n            try {\n                // console.log(\"Handling '\" + msg_type + \"' message: \", msg);\n                callback(fig, msg);\n            } catch (e) {\n                console.log(\"Exception inside the 'handler_\" + msg_type + \"' callback:\", e, e.stack, msg);\n            }\n        }\n    };\n}\n\n// from http://stackoverflow.com/questions/1114465/getting-mouse-location-in-canvas\nmpl.findpos = function(e) {\n    //this section is from http://www.quirksmode.org/js/events_properties.html\n    var targ;\n    if (!e)\n        e = window.event;\n    if (e.target)\n        targ = e.target;\n    else if (e.srcElement)\n        targ = e.srcElement;\n    if (targ.nodeType == 3) // defeat Safari bug\n        targ = targ.parentNode;\n\n    // jQuery normalizes the pageX and pageY\n    // pageX,Y are the mouse positions relative to the document\n    // offset() returns the position of the element relative to the document\n    var x = e.pageX - $(targ).offset().left;\n    var y = e.pageY - $(targ).offset().top;\n\n    return {\"x\": x, \"y\": y};\n};\n\n/*\n * return a copy of an object with only non-object keys\n * we need this to avoid circular references\n * http://stackoverflow.com/a/24161582/3208463\n */\nfunction simpleKeys (original) {\n  return Object.keys(original).reduce(function (obj, key) {\n    if (typeof original[key] !== 'object')\n        obj[key] = original[key]\n    return obj;\n  }, {});\n}\n\nmpl.figure.prototype.mouse_event = function(event, name) {\n    var canvas_pos = mpl.findpos(event)\n\n    if (name === 'button_press')\n    {\n        this.canvas.focus();\n        this.canvas_div.focus();\n    }\n\n    var x = canvas_pos.x * mpl.ratio;\n    var y = canvas_pos.y * mpl.ratio;\n\n    this.send_message(name, {x: x, y: y, button: event.button,\n                             step: event.step,\n                             guiEvent: simpleKeys(event)});\n\n    /* This prevents the web browser from automatically changing to\n     * the text insertion cursor when the button is pressed.  We want\n     * to control all of the cursor setting manually through the\n     * 'cursor' event from matplotlib */\n    event.preventDefault();\n    return false;\n}\n\nmpl.figure.prototype._key_event_extra = function(event, name) {\n    // Handle any extra behaviour associated with a key event\n}\n\nmpl.figure.prototype.key_event = function(event, name) {\n\n    // Prevent repeat events\n    if (name == 'key_press')\n    {\n        if (event.which === this._key)\n            return;\n        else\n            this._key = event.which;\n    }\n    if (name == 'key_release')\n        this._key = null;\n\n    var value = '';\n    if (event.ctrlKey && event.which != 17)\n        value += \"ctrl+\";\n    if (event.altKey && event.which != 18)\n        value += \"alt+\";\n    if (event.shiftKey && event.which != 16)\n        value += \"shift+\";\n\n    value += 'k';\n    value += event.which.toString();\n\n    this._key_event_extra(event, name);\n\n    this.send_message(name, {key: value,\n                             guiEvent: simpleKeys(event)});\n    return false;\n}\n\nmpl.figure.prototype.toolbar_button_onclick = function(name) {\n    if (name == 'download') {\n        this.handle_save(this, null);\n    } else {\n        this.send_message(\"toolbar_button\", {name: name});\n    }\n};\n\nmpl.figure.prototype.toolbar_button_onmouseover = function(tooltip) {\n    this.message.textContent = tooltip;\n};\nmpl.toolbar_items = [[\"Home\", \"Reset original view\", \"fa fa-home icon-home\", \"home\"], [\"Back\", \"Back to  previous view\", \"fa fa-arrow-left icon-arrow-left\", \"back\"], [\"Forward\", \"Forward to next view\", \"fa fa-arrow-right icon-arrow-right\", \"forward\"], [\"\", \"\", \"\", \"\"], [\"Pan\", \"Pan axes with left mouse, zoom with right\", \"fa fa-arrows icon-move\", \"pan\"], [\"Zoom\", \"Zoom to rectangle\", \"fa fa-square-o icon-check-empty\", \"zoom\"], [\"\", \"\", \"\", \"\"], [\"Download\", \"Download plot\", \"fa fa-floppy-o icon-save\", \"download\"]];\n\nmpl.extensions = [\"eps\", \"jpeg\", \"pdf\", \"png\", \"ps\", \"raw\", \"svg\", \"tif\"];\n\nmpl.default_extension = \"png\";var comm_websocket_adapter = function(comm) {\n    // Create a \"websocket\"-like object which calls the given IPython comm\n    // object with the appropriate methods. Currently this is a non binary\n    // socket, so there is still some room for performance tuning.\n    var ws = {};\n\n    ws.close = function() {\n        comm.close()\n    };\n    ws.send = function(m) {\n        //console.log('sending', m);\n        comm.send(m);\n    };\n    // Register the callback with on_msg.\n    comm.on_msg(function(msg) {\n        //console.log('receiving', msg['content']['data'], msg);\n        // Pass the mpl event to the overriden (by mpl) onmessage function.\n        ws.onmessage(msg['content']['data'])\n    });\n    return ws;\n}\n\nmpl.mpl_figure_comm = function(comm, msg) {\n    // This is the function which gets called when the mpl process\n    // starts-up an IPython Comm through the \"matplotlib\" channel.\n\n    var id = msg.content.data.id;\n    // Get hold of the div created by the display call when the Comm\n    // socket was opened in Python.\n    var element = $(\"#\" + id);\n    var ws_proxy = comm_websocket_adapter(comm)\n\n    function ondownload(figure, format) {\n        window.open(figure.imageObj.src);\n    }\n\n    var fig = new mpl.figure(id, ws_proxy,\n                           ondownload,\n                           element.get(0));\n\n    // Call onopen now - mpl needs it, as it is assuming we've passed it a real\n    // web socket which is closed, not our websocket->open comm proxy.\n    ws_proxy.onopen();\n\n    fig.parent_element = element.get(0);\n    fig.cell_info = mpl.find_output_cell(\"<div id='\" + id + \"'></div>\");\n    if (!fig.cell_info) {\n        console.error(\"Failed to find cell for figure\", id, fig);\n        return;\n    }\n\n    var output_index = fig.cell_info[2]\n    var cell = fig.cell_info[0];\n\n};\n\nmpl.figure.prototype.handle_close = function(fig, msg) {\n    var width = fig.canvas.width/mpl.ratio\n    fig.root.unbind('remove')\n\n    // Update the output cell to use the data from the current canvas.\n    fig.push_to_output();\n    var dataURL = fig.canvas.toDataURL();\n    // Re-enable the keyboard manager in IPython - without this line, in FF,\n    // the notebook keyboard shortcuts fail.\n    IPython.keyboard_manager.enable()\n    $(fig.parent_element).html('<img src=\"' + dataURL + '\" width=\"' + width + '\">');\n    fig.close_ws(fig, msg);\n}\n\nmpl.figure.prototype.close_ws = function(fig, msg){\n    fig.send_message('closing', msg);\n    // fig.ws.close()\n}\n\nmpl.figure.prototype.push_to_output = function(remove_interactive) {\n    // Turn the data on the canvas into data in the output cell.\n    var width = this.canvas.width/mpl.ratio\n    var dataURL = this.canvas.toDataURL();\n    this.cell_info[1]['text/html'] = '<img src=\"' + dataURL + '\" width=\"' + width + '\">';\n}\n\nmpl.figure.prototype.updated_canvas_event = function() {\n    // Tell IPython that the notebook contents must change.\n    IPython.notebook.set_dirty(true);\n    this.send_message(\"ack\", {});\n    var fig = this;\n    // Wait a second, then push the new image to the DOM so\n    // that it is saved nicely (might be nice to debounce this).\n    setTimeout(function () { fig.push_to_output() }, 1000);\n}\n\nmpl.figure.prototype._init_toolbar = function() {\n    var fig = this;\n\n    var nav_element = $('<div/>')\n    nav_element.attr('style', 'width: 100%');\n    this.root.append(nav_element);\n\n    // Define a callback function for later on.\n    function toolbar_event(event) {\n        return fig.toolbar_button_onclick(event['data']);\n    }\n    function toolbar_mouse_event(event) {\n        return fig.toolbar_button_onmouseover(event['data']);\n    }\n\n    for(var toolbar_ind in mpl.toolbar_items){\n        var name = mpl.toolbar_items[toolbar_ind][0];\n        var tooltip = mpl.toolbar_items[toolbar_ind][1];\n        var image = mpl.toolbar_items[toolbar_ind][2];\n        var method_name = mpl.toolbar_items[toolbar_ind][3];\n\n        if (!name) { continue; };\n\n        var button = $('<button class=\"btn btn-default\" href=\"#\" title=\"' + name + '\"><i class=\"fa ' + image + ' fa-lg\"></i></button>');\n        button.click(method_name, toolbar_event);\n        button.mouseover(tooltip, toolbar_mouse_event);\n        nav_element.append(button);\n    }\n\n    // Add the status bar.\n    var status_bar = $('<span class=\"mpl-message\" style=\"text-align:right; float: right;\"/>');\n    nav_element.append(status_bar);\n    this.message = status_bar[0];\n\n    // Add the close button to the window.\n    var buttongrp = $('<div class=\"btn-group inline pull-right\"></div>');\n    var button = $('<button class=\"btn btn-mini btn-primary\" href=\"#\" title=\"Stop Interaction\"><i class=\"fa fa-power-off icon-remove icon-large\"></i></button>');\n    button.click(function (evt) { fig.handle_close(fig, {}); } );\n    button.mouseover('Stop Interaction', toolbar_mouse_event);\n    buttongrp.append(button);\n    var titlebar = this.root.find($('.ui-dialog-titlebar'));\n    titlebar.prepend(buttongrp);\n}\n\nmpl.figure.prototype._root_extra_style = function(el){\n    var fig = this\n    el.on(\"remove\", function(){\n\tfig.close_ws(fig, {});\n    });\n}\n\nmpl.figure.prototype._canvas_extra_style = function(el){\n    // this is important to make the div 'focusable\n    el.attr('tabindex', 0)\n    // reach out to IPython and tell the keyboard manager to turn it's self\n    // off when our div gets focus\n\n    // location in version 3\n    if (IPython.notebook.keyboard_manager) {\n        IPython.notebook.keyboard_manager.register_events(el);\n    }\n    else {\n        // location in version 2\n        IPython.keyboard_manager.register_events(el);\n    }\n\n}\n\nmpl.figure.prototype._key_event_extra = function(event, name) {\n    var manager = IPython.notebook.keyboard_manager;\n    if (!manager)\n        manager = IPython.keyboard_manager;\n\n    // Check for shift+enter\n    if (event.shiftKey && event.which == 13) {\n        this.canvas_div.blur();\n        event.shiftKey = false;\n        // Send a \"J\" for go to next cell\n        event.which = 74;\n        event.keyCode = 74;\n        manager.command_mode();\n        manager.handle_keydown(event);\n    }\n}\n\nmpl.figure.prototype.handle_save = function(fig, msg) {\n    fig.ondownload(fig, null);\n}\n\n\nmpl.find_output_cell = function(html_output) {\n    // Return the cell and output element which can be found *uniquely* in the notebook.\n    // Note - this is a bit hacky, but it is done because the \"notebook_saving.Notebook\"\n    // IPython event is triggered only after the cells have been serialised, which for\n    // our purposes (turning an active figure into a static one), is too late.\n    var cells = IPython.notebook.get_cells();\n    var ncells = cells.length;\n    for (var i=0; i<ncells; i++) {\n        var cell = cells[i];\n        if (cell.cell_type === 'code'){\n            for (var j=0; j<cell.output_area.outputs.length; j++) {\n                var data = cell.output_area.outputs[j];\n                if (data.data) {\n                    // IPython >= 3 moved mimebundle to data attribute of output\n                    data = data.data;\n                }\n                if (data['text/html'] == html_output) {\n                    return [cell, data, j];\n                }\n            }\n        }\n    }\n}\n\n// Register the function which deals with the matplotlib target/channel.\n// The kernel may be null if the page has been refreshed.\nif (IPython.notebook.kernel != null) {\n    IPython.notebook.kernel.comm_manager.register_target('matplotlib', mpl.mpl_figure_comm);\n}\n",
      "text/plain": [
       "<IPython.core.display.Javascript object>"
      ]
     },
     "metadata": {},
     "output_type": "display_data"
    },
    {
     "data": {
      "text/html": [
       "<img src=\"data:image/png;base64,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\" width=\"432\">"
      ],
      "text/plain": [
       "<IPython.core.display.HTML object>"
      ]
     },
     "metadata": {},
     "output_type": "display_data"
    }
   ],
   "source": [
    "#a new figure will be created\n",
    "fig = plt.figure()\n",
    "ax = fig.add_subplot(111, projection='3d')\n",
    "\n",
    "# Make data\n",
    "u = np.linspace(0, 2 * np.pi, 100)\n",
    "v = np.linspace(0, np.pi, 100)\n",
    "x = 10 * np.outer(np.cos(u), np.sin(v))\n",
    "y = 10 * np.outer(np.sin(u), np.sin(v))\n",
    "z = 10 * np.outer(np.ones(np.size(u)), np.cos(v))\n",
    "\n",
    "# Plot the surface\n",
    "ax.plot_surface(x, y, z, color='b')\n",
    "\n",
    "plt.show()\n",
    "# drag and rotate the figure to view it better"
   ]
  },
  {
   "cell_type": "code",
   "execution_count": 205,
   "metadata": {},
   "outputs": [],
   "source": [
    "#### Plot 3D function"
   ]
  },
  {
   "cell_type": "code",
   "execution_count": 221,
   "metadata": {},
   "outputs": [
    {
     "data": {
      "application/javascript": "/* Put everything inside the global mpl namespace */\nwindow.mpl = {};\n\n\nmpl.get_websocket_type = function() {\n    if (typeof(WebSocket) !== 'undefined') {\n        return WebSocket;\n    } else if (typeof(MozWebSocket) !== 'undefined') {\n        return MozWebSocket;\n    } else {\n        alert('Your browser does not have WebSocket support.' +\n              'Please try Chrome, Safari or Firefox ≥ 6. ' +\n              'Firefox 4 and 5 are also supported but you ' +\n              'have to enable WebSockets in about:config.');\n    };\n}\n\nmpl.figure = function(figure_id, websocket, ondownload, parent_element) {\n    this.id = figure_id;\n\n    this.ws = websocket;\n\n    this.supports_binary = (this.ws.binaryType != undefined);\n\n    if (!this.supports_binary) {\n        var warnings = document.getElementById(\"mpl-warnings\");\n        if (warnings) {\n            warnings.style.display = 'block';\n            warnings.textContent = (\n                \"This browser does not support binary websocket messages. \" +\n                    \"Performance may be slow.\");\n        }\n    }\n\n    this.imageObj = new Image();\n\n    this.context = undefined;\n    this.message = undefined;\n    this.canvas = undefined;\n    this.rubberband_canvas = undefined;\n    this.rubberband_context = undefined;\n    this.format_dropdown = undefined;\n\n    this.image_mode = 'full';\n\n    this.root = $('<div/>');\n    this._root_extra_style(this.root)\n    this.root.attr('style', 'display: inline-block');\n\n    $(parent_element).append(this.root);\n\n    this._init_header(this);\n    this._init_canvas(this);\n    this._init_toolbar(this);\n\n    var fig = this;\n\n    this.waiting = false;\n\n    this.ws.onopen =  function () {\n            fig.send_message(\"supports_binary\", {value: fig.supports_binary});\n            fig.send_message(\"send_image_mode\", {});\n            if (mpl.ratio != 1) {\n                fig.send_message(\"set_dpi_ratio\", {'dpi_ratio': mpl.ratio});\n            }\n            fig.send_message(\"refresh\", {});\n        }\n\n    this.imageObj.onload = function() {\n            if (fig.image_mode == 'full') {\n                // Full images could contain transparency (where diff images\n                // almost always do), so we need to clear the canvas so that\n                // there is no ghosting.\n                fig.context.clearRect(0, 0, fig.canvas.width, fig.canvas.height);\n            }\n            fig.context.drawImage(fig.imageObj, 0, 0);\n        };\n\n    this.imageObj.onunload = function() {\n        fig.ws.close();\n    }\n\n    this.ws.onmessage = this._make_on_message_function(this);\n\n    this.ondownload = ondownload;\n}\n\nmpl.figure.prototype._init_header = function() {\n    var titlebar = $(\n        '<div class=\"ui-dialog-titlebar ui-widget-header ui-corner-all ' +\n        'ui-helper-clearfix\"/>');\n    var titletext = $(\n        '<div class=\"ui-dialog-title\" style=\"width: 100%; ' +\n        'text-align: center; padding: 3px;\"/>');\n    titlebar.append(titletext)\n    this.root.append(titlebar);\n    this.header = titletext[0];\n}\n\n\n\nmpl.figure.prototype._canvas_extra_style = function(canvas_div) {\n\n}\n\n\nmpl.figure.prototype._root_extra_style = function(canvas_div) {\n\n}\n\nmpl.figure.prototype._init_canvas = function() {\n    var fig = this;\n\n    var canvas_div = $('<div/>');\n\n    canvas_div.attr('style', 'position: relative; clear: both; outline: 0');\n\n    function canvas_keyboard_event(event) {\n        return fig.key_event(event, event['data']);\n    }\n\n    canvas_div.keydown('key_press', canvas_keyboard_event);\n    canvas_div.keyup('key_release', canvas_keyboard_event);\n    this.canvas_div = canvas_div\n    this._canvas_extra_style(canvas_div)\n    this.root.append(canvas_div);\n\n    var canvas = $('<canvas/>');\n    canvas.addClass('mpl-canvas');\n    canvas.attr('style', \"left: 0; top: 0; z-index: 0; outline: 0\")\n\n    this.canvas = canvas[0];\n    this.context = canvas[0].getContext(\"2d\");\n\n    var backingStore = this.context.backingStorePixelRatio ||\n\tthis.context.webkitBackingStorePixelRatio ||\n\tthis.context.mozBackingStorePixelRatio ||\n\tthis.context.msBackingStorePixelRatio ||\n\tthis.context.oBackingStorePixelRatio ||\n\tthis.context.backingStorePixelRatio || 1;\n\n    mpl.ratio = (window.devicePixelRatio || 1) / backingStore;\n\n    var rubberband = $('<canvas/>');\n    rubberband.attr('style', \"position: absolute; left: 0; top: 0; z-index: 1;\")\n\n    var pass_mouse_events = true;\n\n    canvas_div.resizable({\n        start: function(event, ui) {\n            pass_mouse_events = false;\n        },\n        resize: function(event, ui) {\n            fig.request_resize(ui.size.width, ui.size.height);\n        },\n        stop: function(event, ui) {\n            pass_mouse_events = true;\n            fig.request_resize(ui.size.width, ui.size.height);\n        },\n    });\n\n    function mouse_event_fn(event) {\n        if (pass_mouse_events)\n            return fig.mouse_event(event, event['data']);\n    }\n\n    rubberband.mousedown('button_press', mouse_event_fn);\n    rubberband.mouseup('button_release', mouse_event_fn);\n    // Throttle sequential mouse events to 1 every 20ms.\n    rubberband.mousemove('motion_notify', mouse_event_fn);\n\n    rubberband.mouseenter('figure_enter', mouse_event_fn);\n    rubberband.mouseleave('figure_leave', mouse_event_fn);\n\n    canvas_div.on(\"wheel\", function (event) {\n        event = event.originalEvent;\n        event['data'] = 'scroll'\n        if (event.deltaY < 0) {\n            event.step = 1;\n        } else {\n            event.step = -1;\n        }\n        mouse_event_fn(event);\n    });\n\n    canvas_div.append(canvas);\n    canvas_div.append(rubberband);\n\n    this.rubberband = rubberband;\n    this.rubberband_canvas = rubberband[0];\n    this.rubberband_context = rubberband[0].getContext(\"2d\");\n    this.rubberband_context.strokeStyle = \"#000000\";\n\n    this._resize_canvas = function(width, height) {\n        // Keep the size of the canvas, canvas container, and rubber band\n        // canvas in synch.\n        canvas_div.css('width', width)\n        canvas_div.css('height', height)\n\n        canvas.attr('width', width * mpl.ratio);\n        canvas.attr('height', height * mpl.ratio);\n        canvas.attr('style', 'width: ' + width + 'px; height: ' + height + 'px;');\n\n        rubberband.attr('width', width);\n        rubberband.attr('height', height);\n    }\n\n    // Set the figure to an initial 600x600px, this will subsequently be updated\n    // upon first draw.\n    this._resize_canvas(600, 600);\n\n    // Disable right mouse context menu.\n    $(this.rubberband_canvas).bind(\"contextmenu\",function(e){\n        return false;\n    });\n\n    function set_focus () {\n        canvas.focus();\n        canvas_div.focus();\n    }\n\n    window.setTimeout(set_focus, 100);\n}\n\nmpl.figure.prototype._init_toolbar = function() {\n    var fig = this;\n\n    var nav_element = $('<div/>')\n    nav_element.attr('style', 'width: 100%');\n    this.root.append(nav_element);\n\n    // Define a callback function for later on.\n    function toolbar_event(event) {\n        return fig.toolbar_button_onclick(event['data']);\n    }\n    function toolbar_mouse_event(event) {\n        return fig.toolbar_button_onmouseover(event['data']);\n    }\n\n    for(var toolbar_ind in mpl.toolbar_items) {\n        var name = mpl.toolbar_items[toolbar_ind][0];\n        var tooltip = mpl.toolbar_items[toolbar_ind][1];\n        var image = mpl.toolbar_items[toolbar_ind][2];\n        var method_name = mpl.toolbar_items[toolbar_ind][3];\n\n        if (!name) {\n            // put a spacer in here.\n            continue;\n        }\n        var button = $('<button/>');\n        button.addClass('ui-button ui-widget ui-state-default ui-corner-all ' +\n                        'ui-button-icon-only');\n        button.attr('role', 'button');\n        button.attr('aria-disabled', 'false');\n        button.click(method_name, toolbar_event);\n        button.mouseover(tooltip, toolbar_mouse_event);\n\n        var icon_img = $('<span/>');\n        icon_img.addClass('ui-button-icon-primary ui-icon');\n        icon_img.addClass(image);\n        icon_img.addClass('ui-corner-all');\n\n        var tooltip_span = $('<span/>');\n        tooltip_span.addClass('ui-button-text');\n        tooltip_span.html(tooltip);\n\n        button.append(icon_img);\n        button.append(tooltip_span);\n\n        nav_element.append(button);\n    }\n\n    var fmt_picker_span = $('<span/>');\n\n    var fmt_picker = $('<select/>');\n    fmt_picker.addClass('mpl-toolbar-option ui-widget ui-widget-content');\n    fmt_picker_span.append(fmt_picker);\n    nav_element.append(fmt_picker_span);\n    this.format_dropdown = fmt_picker[0];\n\n    for (var ind in mpl.extensions) {\n        var fmt = mpl.extensions[ind];\n        var option = $(\n            '<option/>', {selected: fmt === mpl.default_extension}).html(fmt);\n        fmt_picker.append(option)\n    }\n\n    // Add hover states to the ui-buttons\n    $( \".ui-button\" ).hover(\n        function() { $(this).addClass(\"ui-state-hover\");},\n        function() { $(this).removeClass(\"ui-state-hover\");}\n    );\n\n    var status_bar = $('<span class=\"mpl-message\"/>');\n    nav_element.append(status_bar);\n    this.message = status_bar[0];\n}\n\nmpl.figure.prototype.request_resize = function(x_pixels, y_pixels) {\n    // Request matplotlib to resize the figure. Matplotlib will then trigger a resize in the client,\n    // which will in turn request a refresh of the image.\n    this.send_message('resize', {'width': x_pixels, 'height': y_pixels});\n}\n\nmpl.figure.prototype.send_message = function(type, properties) {\n    properties['type'] = type;\n    properties['figure_id'] = this.id;\n    this.ws.send(JSON.stringify(properties));\n}\n\nmpl.figure.prototype.send_draw_message = function() {\n    if (!this.waiting) {\n        this.waiting = true;\n        this.ws.send(JSON.stringify({type: \"draw\", figure_id: this.id}));\n    }\n}\n\n\nmpl.figure.prototype.handle_save = function(fig, msg) {\n    var format_dropdown = fig.format_dropdown;\n    var format = format_dropdown.options[format_dropdown.selectedIndex].value;\n    fig.ondownload(fig, format);\n}\n\n\nmpl.figure.prototype.handle_resize = function(fig, msg) {\n    var size = msg['size'];\n    if (size[0] != fig.canvas.width || size[1] != fig.canvas.height) {\n        fig._resize_canvas(size[0], size[1]);\n        fig.send_message(\"refresh\", {});\n    };\n}\n\nmpl.figure.prototype.handle_rubberband = function(fig, msg) {\n    var x0 = msg['x0'] / mpl.ratio;\n    var y0 = (fig.canvas.height - msg['y0']) / mpl.ratio;\n    var x1 = msg['x1'] / mpl.ratio;\n    var y1 = (fig.canvas.height - msg['y1']) / mpl.ratio;\n    x0 = Math.floor(x0) + 0.5;\n    y0 = Math.floor(y0) + 0.5;\n    x1 = Math.floor(x1) + 0.5;\n    y1 = Math.floor(y1) + 0.5;\n    var min_x = Math.min(x0, x1);\n    var min_y = Math.min(y0, y1);\n    var width = Math.abs(x1 - x0);\n    var height = Math.abs(y1 - y0);\n\n    fig.rubberband_context.clearRect(\n        0, 0, fig.canvas.width, fig.canvas.height);\n\n    fig.rubberband_context.strokeRect(min_x, min_y, width, height);\n}\n\nmpl.figure.prototype.handle_figure_label = function(fig, msg) {\n    // Updates the figure title.\n    fig.header.textContent = msg['label'];\n}\n\nmpl.figure.prototype.handle_cursor = function(fig, msg) {\n    var cursor = msg['cursor'];\n    switch(cursor)\n    {\n    case 0:\n        cursor = 'pointer';\n        break;\n    case 1:\n        cursor = 'default';\n        break;\n    case 2:\n        cursor = 'crosshair';\n        break;\n    case 3:\n        cursor = 'move';\n        break;\n    }\n    fig.rubberband_canvas.style.cursor = cursor;\n}\n\nmpl.figure.prototype.handle_message = function(fig, msg) {\n    fig.message.textContent = msg['message'];\n}\n\nmpl.figure.prototype.handle_draw = function(fig, msg) {\n    // Request the server to send over a new figure.\n    fig.send_draw_message();\n}\n\nmpl.figure.prototype.handle_image_mode = function(fig, msg) {\n    fig.image_mode = msg['mode'];\n}\n\nmpl.figure.prototype.updated_canvas_event = function() {\n    // Called whenever the canvas gets updated.\n    this.send_message(\"ack\", {});\n}\n\n// A function to construct a web socket function for onmessage handling.\n// Called in the figure constructor.\nmpl.figure.prototype._make_on_message_function = function(fig) {\n    return function socket_on_message(evt) {\n        if (evt.data instanceof Blob) {\n            /* FIXME: We get \"Resource interpreted as Image but\n             * transferred with MIME type text/plain:\" errors on\n             * Chrome.  But how to set the MIME type?  It doesn't seem\n             * to be part of the websocket stream */\n            evt.data.type = \"image/png\";\n\n            /* Free the memory for the previous frames */\n            if (fig.imageObj.src) {\n                (window.URL || window.webkitURL).revokeObjectURL(\n                    fig.imageObj.src);\n            }\n\n            fig.imageObj.src = (window.URL || window.webkitURL).createObjectURL(\n                evt.data);\n            fig.updated_canvas_event();\n            fig.waiting = false;\n            return;\n        }\n        else if (typeof evt.data === 'string' && evt.data.slice(0, 21) == \"data:image/png;base64\") {\n            fig.imageObj.src = evt.data;\n            fig.updated_canvas_event();\n            fig.waiting = false;\n            return;\n        }\n\n        var msg = JSON.parse(evt.data);\n        var msg_type = msg['type'];\n\n        // Call the  \"handle_{type}\" callback, which takes\n        // the figure and JSON message as its only arguments.\n        try {\n            var callback = fig[\"handle_\" + msg_type];\n        } catch (e) {\n            console.log(\"No handler for the '\" + msg_type + \"' message type: \", msg);\n            return;\n        }\n\n        if (callback) {\n            try {\n                // console.log(\"Handling '\" + msg_type + \"' message: \", msg);\n                callback(fig, msg);\n            } catch (e) {\n                console.log(\"Exception inside the 'handler_\" + msg_type + \"' callback:\", e, e.stack, msg);\n            }\n        }\n    };\n}\n\n// from http://stackoverflow.com/questions/1114465/getting-mouse-location-in-canvas\nmpl.findpos = function(e) {\n    //this section is from http://www.quirksmode.org/js/events_properties.html\n    var targ;\n    if (!e)\n        e = window.event;\n    if (e.target)\n        targ = e.target;\n    else if (e.srcElement)\n        targ = e.srcElement;\n    if (targ.nodeType == 3) // defeat Safari bug\n        targ = targ.parentNode;\n\n    // jQuery normalizes the pageX and pageY\n    // pageX,Y are the mouse positions relative to the document\n    // offset() returns the position of the element relative to the document\n    var x = e.pageX - $(targ).offset().left;\n    var y = e.pageY - $(targ).offset().top;\n\n    return {\"x\": x, \"y\": y};\n};\n\n/*\n * return a copy of an object with only non-object keys\n * we need this to avoid circular references\n * http://stackoverflow.com/a/24161582/3208463\n */\nfunction simpleKeys (original) {\n  return Object.keys(original).reduce(function (obj, key) {\n    if (typeof original[key] !== 'object')\n        obj[key] = original[key]\n    return obj;\n  }, {});\n}\n\nmpl.figure.prototype.mouse_event = function(event, name) {\n    var canvas_pos = mpl.findpos(event)\n\n    if (name === 'button_press')\n    {\n        this.canvas.focus();\n        this.canvas_div.focus();\n    }\n\n    var x = canvas_pos.x * mpl.ratio;\n    var y = canvas_pos.y * mpl.ratio;\n\n    this.send_message(name, {x: x, y: y, button: event.button,\n                             step: event.step,\n                             guiEvent: simpleKeys(event)});\n\n    /* This prevents the web browser from automatically changing to\n     * the text insertion cursor when the button is pressed.  We want\n     * to control all of the cursor setting manually through the\n     * 'cursor' event from matplotlib */\n    event.preventDefault();\n    return false;\n}\n\nmpl.figure.prototype._key_event_extra = function(event, name) {\n    // Handle any extra behaviour associated with a key event\n}\n\nmpl.figure.prototype.key_event = function(event, name) {\n\n    // Prevent repeat events\n    if (name == 'key_press')\n    {\n        if (event.which === this._key)\n            return;\n        else\n            this._key = event.which;\n    }\n    if (name == 'key_release')\n        this._key = null;\n\n    var value = '';\n    if (event.ctrlKey && event.which != 17)\n        value += \"ctrl+\";\n    if (event.altKey && event.which != 18)\n        value += \"alt+\";\n    if (event.shiftKey && event.which != 16)\n        value += \"shift+\";\n\n    value += 'k';\n    value += event.which.toString();\n\n    this._key_event_extra(event, name);\n\n    this.send_message(name, {key: value,\n                             guiEvent: simpleKeys(event)});\n    return false;\n}\n\nmpl.figure.prototype.toolbar_button_onclick = function(name) {\n    if (name == 'download') {\n        this.handle_save(this, null);\n    } else {\n        this.send_message(\"toolbar_button\", {name: name});\n    }\n};\n\nmpl.figure.prototype.toolbar_button_onmouseover = function(tooltip) {\n    this.message.textContent = tooltip;\n};\nmpl.toolbar_items = [[\"Home\", \"Reset original view\", \"fa fa-home icon-home\", \"home\"], [\"Back\", \"Back to  previous view\", \"fa fa-arrow-left icon-arrow-left\", \"back\"], [\"Forward\", \"Forward to next view\", \"fa fa-arrow-right icon-arrow-right\", \"forward\"], [\"\", \"\", \"\", \"\"], [\"Pan\", \"Pan axes with left mouse, zoom with right\", \"fa fa-arrows icon-move\", \"pan\"], [\"Zoom\", \"Zoom to rectangle\", \"fa fa-square-o icon-check-empty\", \"zoom\"], [\"\", \"\", \"\", \"\"], [\"Download\", \"Download plot\", \"fa fa-floppy-o icon-save\", \"download\"]];\n\nmpl.extensions = [\"eps\", \"jpeg\", \"pdf\", \"png\", \"ps\", \"raw\", \"svg\", \"tif\"];\n\nmpl.default_extension = \"png\";var comm_websocket_adapter = function(comm) {\n    // Create a \"websocket\"-like object which calls the given IPython comm\n    // object with the appropriate methods. Currently this is a non binary\n    // socket, so there is still some room for performance tuning.\n    var ws = {};\n\n    ws.close = function() {\n        comm.close()\n    };\n    ws.send = function(m) {\n        //console.log('sending', m);\n        comm.send(m);\n    };\n    // Register the callback with on_msg.\n    comm.on_msg(function(msg) {\n        //console.log('receiving', msg['content']['data'], msg);\n        // Pass the mpl event to the overriden (by mpl) onmessage function.\n        ws.onmessage(msg['content']['data'])\n    });\n    return ws;\n}\n\nmpl.mpl_figure_comm = function(comm, msg) {\n    // This is the function which gets called when the mpl process\n    // starts-up an IPython Comm through the \"matplotlib\" channel.\n\n    var id = msg.content.data.id;\n    // Get hold of the div created by the display call when the Comm\n    // socket was opened in Python.\n    var element = $(\"#\" + id);\n    var ws_proxy = comm_websocket_adapter(comm)\n\n    function ondownload(figure, format) {\n        window.open(figure.imageObj.src);\n    }\n\n    var fig = new mpl.figure(id, ws_proxy,\n                           ondownload,\n                           element.get(0));\n\n    // Call onopen now - mpl needs it, as it is assuming we've passed it a real\n    // web socket which is closed, not our websocket->open comm proxy.\n    ws_proxy.onopen();\n\n    fig.parent_element = element.get(0);\n    fig.cell_info = mpl.find_output_cell(\"<div id='\" + id + \"'></div>\");\n    if (!fig.cell_info) {\n        console.error(\"Failed to find cell for figure\", id, fig);\n        return;\n    }\n\n    var output_index = fig.cell_info[2]\n    var cell = fig.cell_info[0];\n\n};\n\nmpl.figure.prototype.handle_close = function(fig, msg) {\n    var width = fig.canvas.width/mpl.ratio\n    fig.root.unbind('remove')\n\n    // Update the output cell to use the data from the current canvas.\n    fig.push_to_output();\n    var dataURL = fig.canvas.toDataURL();\n    // Re-enable the keyboard manager in IPython - without this line, in FF,\n    // the notebook keyboard shortcuts fail.\n    IPython.keyboard_manager.enable()\n    $(fig.parent_element).html('<img src=\"' + dataURL + '\" width=\"' + width + '\">');\n    fig.close_ws(fig, msg);\n}\n\nmpl.figure.prototype.close_ws = function(fig, msg){\n    fig.send_message('closing', msg);\n    // fig.ws.close()\n}\n\nmpl.figure.prototype.push_to_output = function(remove_interactive) {\n    // Turn the data on the canvas into data in the output cell.\n    var width = this.canvas.width/mpl.ratio\n    var dataURL = this.canvas.toDataURL();\n    this.cell_info[1]['text/html'] = '<img src=\"' + dataURL + '\" width=\"' + width + '\">';\n}\n\nmpl.figure.prototype.updated_canvas_event = function() {\n    // Tell IPython that the notebook contents must change.\n    IPython.notebook.set_dirty(true);\n    this.send_message(\"ack\", {});\n    var fig = this;\n    // Wait a second, then push the new image to the DOM so\n    // that it is saved nicely (might be nice to debounce this).\n    setTimeout(function () { fig.push_to_output() }, 1000);\n}\n\nmpl.figure.prototype._init_toolbar = function() {\n    var fig = this;\n\n    var nav_element = $('<div/>')\n    nav_element.attr('style', 'width: 100%');\n    this.root.append(nav_element);\n\n    // Define a callback function for later on.\n    function toolbar_event(event) {\n        return fig.toolbar_button_onclick(event['data']);\n    }\n    function toolbar_mouse_event(event) {\n        return fig.toolbar_button_onmouseover(event['data']);\n    }\n\n    for(var toolbar_ind in mpl.toolbar_items){\n        var name = mpl.toolbar_items[toolbar_ind][0];\n        var tooltip = mpl.toolbar_items[toolbar_ind][1];\n        var image = mpl.toolbar_items[toolbar_ind][2];\n        var method_name = mpl.toolbar_items[toolbar_ind][3];\n\n        if (!name) { continue; };\n\n        var button = $('<button class=\"btn btn-default\" href=\"#\" title=\"' + name + '\"><i class=\"fa ' + image + ' fa-lg\"></i></button>');\n        button.click(method_name, toolbar_event);\n        button.mouseover(tooltip, toolbar_mouse_event);\n        nav_element.append(button);\n    }\n\n    // Add the status bar.\n    var status_bar = $('<span class=\"mpl-message\" style=\"text-align:right; float: right;\"/>');\n    nav_element.append(status_bar);\n    this.message = status_bar[0];\n\n    // Add the close button to the window.\n    var buttongrp = $('<div class=\"btn-group inline pull-right\"></div>');\n    var button = $('<button class=\"btn btn-mini btn-primary\" href=\"#\" title=\"Stop Interaction\"><i class=\"fa fa-power-off icon-remove icon-large\"></i></button>');\n    button.click(function (evt) { fig.handle_close(fig, {}); } );\n    button.mouseover('Stop Interaction', toolbar_mouse_event);\n    buttongrp.append(button);\n    var titlebar = this.root.find($('.ui-dialog-titlebar'));\n    titlebar.prepend(buttongrp);\n}\n\nmpl.figure.prototype._root_extra_style = function(el){\n    var fig = this\n    el.on(\"remove\", function(){\n\tfig.close_ws(fig, {});\n    });\n}\n\nmpl.figure.prototype._canvas_extra_style = function(el){\n    // this is important to make the div 'focusable\n    el.attr('tabindex', 0)\n    // reach out to IPython and tell the keyboard manager to turn it's self\n    // off when our div gets focus\n\n    // location in version 3\n    if (IPython.notebook.keyboard_manager) {\n        IPython.notebook.keyboard_manager.register_events(el);\n    }\n    else {\n        // location in version 2\n        IPython.keyboard_manager.register_events(el);\n    }\n\n}\n\nmpl.figure.prototype._key_event_extra = function(event, name) {\n    var manager = IPython.notebook.keyboard_manager;\n    if (!manager)\n        manager = IPython.keyboard_manager;\n\n    // Check for shift+enter\n    if (event.shiftKey && event.which == 13) {\n        this.canvas_div.blur();\n        event.shiftKey = false;\n        // Send a \"J\" for go to next cell\n        event.which = 74;\n        event.keyCode = 74;\n        manager.command_mode();\n        manager.handle_keydown(event);\n    }\n}\n\nmpl.figure.prototype.handle_save = function(fig, msg) {\n    fig.ondownload(fig, null);\n}\n\n\nmpl.find_output_cell = function(html_output) {\n    // Return the cell and output element which can be found *uniquely* in the notebook.\n    // Note - this is a bit hacky, but it is done because the \"notebook_saving.Notebook\"\n    // IPython event is triggered only after the cells have been serialised, which for\n    // our purposes (turning an active figure into a static one), is too late.\n    var cells = IPython.notebook.get_cells();\n    var ncells = cells.length;\n    for (var i=0; i<ncells; i++) {\n        var cell = cells[i];\n        if (cell.cell_type === 'code'){\n            for (var j=0; j<cell.output_area.outputs.length; j++) {\n                var data = cell.output_area.outputs[j];\n                if (data.data) {\n                    // IPython >= 3 moved mimebundle to data attribute of output\n                    data = data.data;\n                }\n                if (data['text/html'] == html_output) {\n                    return [cell, data, j];\n                }\n            }\n        }\n    }\n}\n\n// Register the function which deals with the matplotlib target/channel.\n// The kernel may be null if the page has been refreshed.\nif (IPython.notebook.kernel != null) {\n    IPython.notebook.kernel.comm_manager.register_target('matplotlib', mpl.mpl_figure_comm);\n}\n",
      "text/plain": [
       "<IPython.core.display.Javascript object>"
      ]
     },
     "metadata": {},
     "output_type": "display_data"
    },
    {
     "data": {
      "text/html": [
       "<img src=\"data:image/png;base64,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\" width=\"432\">"
      ],
      "text/plain": [
       "<IPython.core.display.HTML object>"
      ]
     },
     "metadata": {},
     "output_type": "display_data"
    }
   ],
   "source": [
    "# Plot the surface\n",
    "\n",
    "fig = plt.figure()\n",
    "ax = fig.add_subplot(111, projection='3d')\n",
    "xx = np.linspace(-15, 15 , 100)\n",
    "yy = np.linspace(-15, 15 , 100)\n",
    "\n",
    "\n",
    "#set labels for three axis: x-axis, y-axis, z-axis\n",
    "ax.set_xlabel('x')\n",
    "ax.set_ylabel('y')\n",
    "ax.set_zlabel('f(x,y)')\n",
    "\n",
    "\n",
    "\n",
    "xx, yy = np.meshgrid(xx, yy)\n",
    "\n",
    "#visualise this function z = f(x,y)\n",
    "f_xy =2.*xx**2 + 1*xx *yy + 0.2*xx * yy + 1. * yy**2\n",
    "# plot the surface\n",
    "ax.plot_surface(xx, yy, f_xy)\n",
    "plt.show()\n",
    "# drag and rotate the figure to view it better"
   ]
  }
 ],
 "metadata": {
  "kernelspec": {
   "display_name": "Python 3",
   "language": "python",
   "name": "python3"
  },
  "language_info": {
   "codemirror_mode": {
    "name": "ipython",
    "version": 3
   },
   "file_extension": ".py",
   "mimetype": "text/x-python",
   "name": "python",
   "nbconvert_exporter": "python",
   "pygments_lexer": "ipython3",
   "version": "3.7.8"
  }
 },
 "nbformat": 4,
 "nbformat_minor": 1
}
